{
 "cells": [
  {
   "cell_type": "code",
   "execution_count": 1,
   "id": "68171489",
   "metadata": {},
   "outputs": [],
   "source": [
    "import pandas as pd\n",
    "import numpy as np\n",
    "import matplotlib.pyplot as plt\n",
    "import seaborn as sns\n",
    "import warnings\n",
    "warnings.filterwarnings(\"ignore\")"
   ]
  },
  {
   "cell_type": "code",
   "execution_count": 2,
   "id": "30716db2",
   "metadata": {},
   "outputs": [],
   "source": [
    "df=pd.read_csv(\"bakery.csv\")"
   ]
  },
  {
   "cell_type": "code",
   "execution_count": 3,
   "id": "6dcf8db2",
   "metadata": {},
   "outputs": [
    {
     "data": {
      "text/plain": [
       "(20507, 5)"
      ]
     },
     "execution_count": 3,
     "metadata": {},
     "output_type": "execute_result"
    }
   ],
   "source": [
    "df.shape"
   ]
  },
  {
   "cell_type": "code",
   "execution_count": 3,
   "id": "19d6dcba",
   "metadata": {},
   "outputs": [
    {
     "data": {
      "text/html": [
       "<div>\n",
       "<style scoped>\n",
       "    .dataframe tbody tr th:only-of-type {\n",
       "        vertical-align: middle;\n",
       "    }\n",
       "\n",
       "    .dataframe tbody tr th {\n",
       "        vertical-align: top;\n",
       "    }\n",
       "\n",
       "    .dataframe thead th {\n",
       "        text-align: right;\n",
       "    }\n",
       "</style>\n",
       "<table border=\"1\" class=\"dataframe\">\n",
       "  <thead>\n",
       "    <tr style=\"text-align: right;\">\n",
       "      <th></th>\n",
       "      <th>TransactionNo</th>\n",
       "      <th>Items</th>\n",
       "      <th>DateTime</th>\n",
       "      <th>Daypart</th>\n",
       "      <th>DayType</th>\n",
       "    </tr>\n",
       "  </thead>\n",
       "  <tbody>\n",
       "    <tr>\n",
       "      <th>0</th>\n",
       "      <td>1</td>\n",
       "      <td>Bread</td>\n",
       "      <td>30-10-2016 09:58</td>\n",
       "      <td>Morning</td>\n",
       "      <td>Weekend</td>\n",
       "    </tr>\n",
       "    <tr>\n",
       "      <th>1</th>\n",
       "      <td>2</td>\n",
       "      <td>Scandinavian</td>\n",
       "      <td>30-10-2016 10:05</td>\n",
       "      <td>Morning</td>\n",
       "      <td>Weekend</td>\n",
       "    </tr>\n",
       "    <tr>\n",
       "      <th>2</th>\n",
       "      <td>2</td>\n",
       "      <td>Scandinavian</td>\n",
       "      <td>30-10-2016 10:05</td>\n",
       "      <td>Morning</td>\n",
       "      <td>Weekend</td>\n",
       "    </tr>\n",
       "    <tr>\n",
       "      <th>3</th>\n",
       "      <td>3</td>\n",
       "      <td>Hot chocolate</td>\n",
       "      <td>30-10-2016 10:07</td>\n",
       "      <td>Morning</td>\n",
       "      <td>Weekend</td>\n",
       "    </tr>\n",
       "    <tr>\n",
       "      <th>4</th>\n",
       "      <td>3</td>\n",
       "      <td>Jam</td>\n",
       "      <td>30-10-2016 10:07</td>\n",
       "      <td>Morning</td>\n",
       "      <td>Weekend</td>\n",
       "    </tr>\n",
       "    <tr>\n",
       "      <th>...</th>\n",
       "      <td>...</td>\n",
       "      <td>...</td>\n",
       "      <td>...</td>\n",
       "      <td>...</td>\n",
       "      <td>...</td>\n",
       "    </tr>\n",
       "    <tr>\n",
       "      <th>20502</th>\n",
       "      <td>9682</td>\n",
       "      <td>Coffee</td>\n",
       "      <td>04-09-2017 14:32</td>\n",
       "      <td>Afternoon</td>\n",
       "      <td>Weekend</td>\n",
       "    </tr>\n",
       "    <tr>\n",
       "      <th>20503</th>\n",
       "      <td>9682</td>\n",
       "      <td>Tea</td>\n",
       "      <td>04-09-2017 14:32</td>\n",
       "      <td>Afternoon</td>\n",
       "      <td>Weekend</td>\n",
       "    </tr>\n",
       "    <tr>\n",
       "      <th>20504</th>\n",
       "      <td>9683</td>\n",
       "      <td>Coffee</td>\n",
       "      <td>04-09-2017 14:57</td>\n",
       "      <td>Afternoon</td>\n",
       "      <td>Weekend</td>\n",
       "    </tr>\n",
       "    <tr>\n",
       "      <th>20505</th>\n",
       "      <td>9683</td>\n",
       "      <td>Pastry</td>\n",
       "      <td>04-09-2017 14:57</td>\n",
       "      <td>Afternoon</td>\n",
       "      <td>Weekend</td>\n",
       "    </tr>\n",
       "    <tr>\n",
       "      <th>20506</th>\n",
       "      <td>9684</td>\n",
       "      <td>Smoothies</td>\n",
       "      <td>04-09-2017 15:04</td>\n",
       "      <td>Afternoon</td>\n",
       "      <td>Weekend</td>\n",
       "    </tr>\n",
       "  </tbody>\n",
       "</table>\n",
       "<p>20507 rows × 5 columns</p>\n",
       "</div>"
      ],
      "text/plain": [
       "       TransactionNo          Items          DateTime    Daypart  DayType\n",
       "0                  1          Bread  30-10-2016 09:58    Morning  Weekend\n",
       "1                  2   Scandinavian  30-10-2016 10:05    Morning  Weekend\n",
       "2                  2   Scandinavian  30-10-2016 10:05    Morning  Weekend\n",
       "3                  3  Hot chocolate  30-10-2016 10:07    Morning  Weekend\n",
       "4                  3            Jam  30-10-2016 10:07    Morning  Weekend\n",
       "...              ...            ...               ...        ...      ...\n",
       "20502           9682         Coffee  04-09-2017 14:32  Afternoon  Weekend\n",
       "20503           9682            Tea  04-09-2017 14:32  Afternoon  Weekend\n",
       "20504           9683         Coffee  04-09-2017 14:57  Afternoon  Weekend\n",
       "20505           9683         Pastry  04-09-2017 14:57  Afternoon  Weekend\n",
       "20506           9684      Smoothies  04-09-2017 15:04  Afternoon  Weekend\n",
       "\n",
       "[20507 rows x 5 columns]"
      ]
     },
     "execution_count": 3,
     "metadata": {},
     "output_type": "execute_result"
    }
   ],
   "source": [
    "df"
   ]
  },
  {
   "cell_type": "code",
   "execution_count": 4,
   "id": "e1967712",
   "metadata": {},
   "outputs": [
    {
     "data": {
      "text/html": [
       "<div>\n",
       "<style scoped>\n",
       "    .dataframe tbody tr th:only-of-type {\n",
       "        vertical-align: middle;\n",
       "    }\n",
       "\n",
       "    .dataframe tbody tr th {\n",
       "        vertical-align: top;\n",
       "    }\n",
       "\n",
       "    .dataframe thead th {\n",
       "        text-align: right;\n",
       "    }\n",
       "</style>\n",
       "<table border=\"1\" class=\"dataframe\">\n",
       "  <thead>\n",
       "    <tr style=\"text-align: right;\">\n",
       "      <th></th>\n",
       "      <th>TransactionNo</th>\n",
       "      <th>Items</th>\n",
       "      <th>DateTime</th>\n",
       "      <th>Daypart</th>\n",
       "      <th>DayType</th>\n",
       "    </tr>\n",
       "  </thead>\n",
       "  <tbody>\n",
       "    <tr>\n",
       "      <th>0</th>\n",
       "      <td>1</td>\n",
       "      <td>Bread</td>\n",
       "      <td>30-10-2016 09:58</td>\n",
       "      <td>Morning</td>\n",
       "      <td>Weekend</td>\n",
       "    </tr>\n",
       "    <tr>\n",
       "      <th>1</th>\n",
       "      <td>2</td>\n",
       "      <td>Scandinavian</td>\n",
       "      <td>30-10-2016 10:05</td>\n",
       "      <td>Morning</td>\n",
       "      <td>Weekend</td>\n",
       "    </tr>\n",
       "    <tr>\n",
       "      <th>2</th>\n",
       "      <td>2</td>\n",
       "      <td>Scandinavian</td>\n",
       "      <td>30-10-2016 10:05</td>\n",
       "      <td>Morning</td>\n",
       "      <td>Weekend</td>\n",
       "    </tr>\n",
       "    <tr>\n",
       "      <th>3</th>\n",
       "      <td>3</td>\n",
       "      <td>Hot chocolate</td>\n",
       "      <td>30-10-2016 10:07</td>\n",
       "      <td>Morning</td>\n",
       "      <td>Weekend</td>\n",
       "    </tr>\n",
       "    <tr>\n",
       "      <th>4</th>\n",
       "      <td>3</td>\n",
       "      <td>Jam</td>\n",
       "      <td>30-10-2016 10:07</td>\n",
       "      <td>Morning</td>\n",
       "      <td>Weekend</td>\n",
       "    </tr>\n",
       "  </tbody>\n",
       "</table>\n",
       "</div>"
      ],
      "text/plain": [
       "   TransactionNo          Items          DateTime  Daypart  DayType\n",
       "0              1          Bread  30-10-2016 09:58  Morning  Weekend\n",
       "1              2   Scandinavian  30-10-2016 10:05  Morning  Weekend\n",
       "2              2   Scandinavian  30-10-2016 10:05  Morning  Weekend\n",
       "3              3  Hot chocolate  30-10-2016 10:07  Morning  Weekend\n",
       "4              3            Jam  30-10-2016 10:07  Morning  Weekend"
      ]
     },
     "execution_count": 4,
     "metadata": {},
     "output_type": "execute_result"
    }
   ],
   "source": [
    "df.head()"
   ]
  },
  {
   "cell_type": "markdown",
   "id": "fe8abaa9",
   "metadata": {},
   "source": [
    "1. The dataset belongs to \"The Bread Basket\" a bakery located in Edinburgh.\n",
    "2. The dataset provide the transaction details of customers who ordered different items from this b akery online during the time period from 30/10/2016 to 12/03/20172. .1."
   ]
  },
  {
   "cell_type": "markdown",
   "id": "8e5f189f",
   "metadata": {},
   "source": [
    "# Checking the information of the data"
   ]
  },
  {
   "cell_type": "code",
   "execution_count": 5,
   "id": "01e55635",
   "metadata": {},
   "outputs": [
    {
     "name": "stdout",
     "output_type": "stream",
     "text": [
      "<class 'pandas.core.frame.DataFrame'>\n",
      "RangeIndex: 20507 entries, 0 to 20506\n",
      "Data columns (total 5 columns):\n",
      " #   Column         Non-Null Count  Dtype \n",
      "---  ------         --------------  ----- \n",
      " 0   TransactionNo  20507 non-null  int64 \n",
      " 1   Items          20507 non-null  object\n",
      " 2   DateTime       20507 non-null  object\n",
      " 3   Daypart        20507 non-null  object\n",
      " 4   DayType        20507 non-null  object\n",
      "dtypes: int64(1), object(4)\n",
      "memory usage: 801.2+ KB\n"
     ]
    }
   ],
   "source": [
    "df.info()\n"
   ]
  },
  {
   "cell_type": "markdown",
   "id": "c9d1d2d8",
   "metadata": {},
   "source": [
    "1. We have one variable as integer which is transaction id\n",
    "2. Other ones are strings\n",
    "\n",
    "\n",
    "\n",
    "How many entries does our data have?"
   ]
  },
  {
   "cell_type": "code",
   "execution_count": 6,
   "id": "03838b9b",
   "metadata": {},
   "outputs": [
    {
     "data": {
      "text/plain": [
       "20507"
      ]
     },
     "execution_count": 6,
     "metadata": {},
     "output_type": "execute_result"
    }
   ],
   "source": [
    "len(df)"
   ]
  },
  {
   "cell_type": "markdown",
   "id": "ec3a5e94",
   "metadata": {},
   "source": [
    "1. Length of the data and number of non-null values are equal\n",
    "2. It means, there is no null values\n",
    "\n",
    "\n",
    "Copying the original data"
   ]
  },
  {
   "cell_type": "code",
   "execution_count": 7,
   "id": "edc1356a",
   "metadata": {},
   "outputs": [],
   "source": [
    "df2 = df.copy()"
   ]
  },
  {
   "cell_type": "markdown",
   "id": "abf5b54d",
   "metadata": {},
   "source": [
    "1. df will be used for exploratory analysis\n",
    "2. df2 will be used for detecting the frequent patterns"
   ]
  },
  {
   "cell_type": "markdown",
   "id": "0b05b812",
   "metadata": {},
   "source": [
    "# Task 2 - Preprocess the Data (For Visualization)\n",
    "Splitting the date-time to day,month and year"
   ]
  },
  {
   "cell_type": "code",
   "execution_count": 8,
   "id": "16aaf6bb",
   "metadata": {},
   "outputs": [],
   "source": [
    "df[\"DateTime\"] = pd.to_datetime(df[\"DateTime\"])\n",
    "\n",
    "df[\"day\"] = df[\"DateTime\"].apply(lambda x : x.day)\n",
    "df[\"month\"] = df[\"DateTime\"].apply(lambda x : x.month)\n",
    "df[\"year\"] = df[\"DateTime\"].apply(lambda x : x.year)\n",
    "\n",
    "days = [\"Monday\", \"Tuesday\", \"Wednesday\", \"Thursday\", \"Friday\", \"Saturday\", \"Sunday\"]\n",
    "df[\"weekday\"] = df[\"DateTime\"].apply(lambda x : days[x.weekday()])"
   ]
  },
  {
   "cell_type": "markdown",
   "id": "207adc4b",
   "metadata": {},
   "source": [
    "1. In order to visualize better, we split the date object into the 3 parts\n",
    "2. We will examine day, month and year features seperately\n",
    "3. Also, we added another feature which indicates day of the week\n",
    "\n",
    "\n",
    "Dropping the unnecessary feature and look to the new data"
   ]
  },
  {
   "cell_type": "code",
   "execution_count": 9,
   "id": "78724810",
   "metadata": {},
   "outputs": [
    {
     "data": {
      "text/html": [
       "<div>\n",
       "<style scoped>\n",
       "    .dataframe tbody tr th:only-of-type {\n",
       "        vertical-align: middle;\n",
       "    }\n",
       "\n",
       "    .dataframe tbody tr th {\n",
       "        vertical-align: top;\n",
       "    }\n",
       "\n",
       "    .dataframe thead th {\n",
       "        text-align: right;\n",
       "    }\n",
       "</style>\n",
       "<table border=\"1\" class=\"dataframe\">\n",
       "  <thead>\n",
       "    <tr style=\"text-align: right;\">\n",
       "      <th></th>\n",
       "      <th>TransactionNo</th>\n",
       "      <th>Items</th>\n",
       "      <th>Daypart</th>\n",
       "      <th>DayType</th>\n",
       "      <th>day</th>\n",
       "      <th>month</th>\n",
       "      <th>year</th>\n",
       "      <th>weekday</th>\n",
       "    </tr>\n",
       "  </thead>\n",
       "  <tbody>\n",
       "    <tr>\n",
       "      <th>0</th>\n",
       "      <td>1</td>\n",
       "      <td>Bread</td>\n",
       "      <td>Morning</td>\n",
       "      <td>Weekend</td>\n",
       "      <td>30</td>\n",
       "      <td>10</td>\n",
       "      <td>2016</td>\n",
       "      <td>Sunday</td>\n",
       "    </tr>\n",
       "    <tr>\n",
       "      <th>1</th>\n",
       "      <td>2</td>\n",
       "      <td>Scandinavian</td>\n",
       "      <td>Morning</td>\n",
       "      <td>Weekend</td>\n",
       "      <td>30</td>\n",
       "      <td>10</td>\n",
       "      <td>2016</td>\n",
       "      <td>Sunday</td>\n",
       "    </tr>\n",
       "    <tr>\n",
       "      <th>2</th>\n",
       "      <td>2</td>\n",
       "      <td>Scandinavian</td>\n",
       "      <td>Morning</td>\n",
       "      <td>Weekend</td>\n",
       "      <td>30</td>\n",
       "      <td>10</td>\n",
       "      <td>2016</td>\n",
       "      <td>Sunday</td>\n",
       "    </tr>\n",
       "    <tr>\n",
       "      <th>3</th>\n",
       "      <td>3</td>\n",
       "      <td>Hot chocolate</td>\n",
       "      <td>Morning</td>\n",
       "      <td>Weekend</td>\n",
       "      <td>30</td>\n",
       "      <td>10</td>\n",
       "      <td>2016</td>\n",
       "      <td>Sunday</td>\n",
       "    </tr>\n",
       "    <tr>\n",
       "      <th>4</th>\n",
       "      <td>3</td>\n",
       "      <td>Jam</td>\n",
       "      <td>Morning</td>\n",
       "      <td>Weekend</td>\n",
       "      <td>30</td>\n",
       "      <td>10</td>\n",
       "      <td>2016</td>\n",
       "      <td>Sunday</td>\n",
       "    </tr>\n",
       "  </tbody>\n",
       "</table>\n",
       "</div>"
      ],
      "text/plain": [
       "   TransactionNo          Items  Daypart  DayType  day  month  year weekday\n",
       "0              1          Bread  Morning  Weekend   30     10  2016  Sunday\n",
       "1              2   Scandinavian  Morning  Weekend   30     10  2016  Sunday\n",
       "2              2   Scandinavian  Morning  Weekend   30     10  2016  Sunday\n",
       "3              3  Hot chocolate  Morning  Weekend   30     10  2016  Sunday\n",
       "4              3            Jam  Morning  Weekend   30     10  2016  Sunday"
      ]
     },
     "execution_count": 9,
     "metadata": {},
     "output_type": "execute_result"
    }
   ],
   "source": [
    "df = df.drop(\"DateTime\", axis=1)\n",
    "df.head()"
   ]
  },
  {
   "cell_type": "markdown",
   "id": "eb476d89",
   "metadata": {},
   "source": [
    "# Task 3 - Exploratory Data Analysis"
   ]
  },
  {
   "cell_type": "markdown",
   "id": "4b3efd41",
   "metadata": {},
   "source": [
    "How much transactions do we have?\n",
    "\n"
   ]
  },
  {
   "cell_type": "code",
   "execution_count": 10,
   "id": "0b856e45",
   "metadata": {},
   "outputs": [
    {
     "data": {
      "text/plain": [
       "9465"
      ]
     },
     "execution_count": 10,
     "metadata": {},
     "output_type": "execute_result"
    }
   ],
   "source": [
    "\n",
    "\n",
    "len(df[\"TransactionNo\"].value_counts())"
   ]
  },
  {
   "cell_type": "markdown",
   "id": "3b213262",
   "metadata": {},
   "source": [
    "Let's start with visualizing the number of items"
   ]
  },
  {
   "cell_type": "code",
   "execution_count": 11,
   "id": "272b92bb",
   "metadata": {},
   "outputs": [],
   "source": [
    "val_counts = dict(df[\"Items\"].value_counts()[:10])"
   ]
  },
  {
   "cell_type": "markdown",
   "id": "2092c59e",
   "metadata": {},
   "source": [
    "We will plot a bar plot to visualize the most 10 popular items"
   ]
  },
  {
   "cell_type": "code",
   "execution_count": 12,
   "id": "33d59539",
   "metadata": {},
   "outputs": [
    {
     "data": {
      "text/plain": [
       "<Axes: >"
      ]
     },
     "execution_count": 12,
     "metadata": {},
     "output_type": "execute_result"
    },
    {
     "data": {
      "image/png": "[encoded data removed]",
      "text/plain": [
       "<Figure size 1200x600 with 1 Axes>"
      ]
     },
     "metadata": {},
     "output_type": "display_data"
    }
   ],
   "source": [
    "plt.figure(figsize=(12,6))\n",
    "sns.barplot(x=list(val_counts.keys()), y=list(val_counts.values()), palette=\"Greens_r\")"
   ]
  },
  {
   "cell_type": "markdown",
   "id": "1a3158bd",
   "metadata": {},
   "source": [
    "# 1. Most of the transactions involves Coffee\n",
    "2. 2nd most popular item is bread\n",
    "3. Tea is the 3rd most popular item\n",
    "\n",
    "\n",
    "Visualizing the daypart feature"
   ]
  },
  {
   "cell_type": "code",
   "execution_count": 13,
   "id": "fe4b175e",
   "metadata": {},
   "outputs": [],
   "source": [
    "daypart = dict(df.groupby('Daypart')['Items'].count().sort_values(ascending=False))"
   ]
  },
  {
   "cell_type": "markdown",
   "id": "2c2c5905",
   "metadata": {},
   "source": [
    "Counted each daypart value and sorted in descending order"
   ]
  },
  {
   "cell_type": "code",
   "execution_count": 14,
   "id": "58a11656",
   "metadata": {},
   "outputs": [
    {
     "data": {
      "image/png": "[encoded data removed]",
      "text/plain": [
       "<Figure size 1000x600 with 1 Axes>"
      ]
     },
     "metadata": {},
     "output_type": "display_data"
    }
   ],
   "source": [
    "plt.figure(figsize=(10,6))\n",
    "plt.pie(daypart.values(), labels=daypart.keys(), explode=[0, 0.01, 0.2, 0.5], colors = sns.color_palette(\"Set2\")[1:], autopct='%.2f%%')\n",
    "plt.tight_layout()\n",
    "plt.legend()\n",
    "plt.show()"
   ]
  },
  {
   "cell_type": "markdown",
   "id": "917c609f",
   "metadata": {},
   "source": [
    "1. Most of the transactions are made in afternoon\n",
    "2. 41% of the transactions are made in morning\n",
    "3. Transactions in evening and night are so rare\n",
    "\n",
    "\n",
    "Visualizing the daytype feature"
   ]
  },
  {
   "cell_type": "code",
   "execution_count": 15,
   "id": "a85dea1a",
   "metadata": {},
   "outputs": [],
   "source": [
    "daytype = dict(df.groupby(\"DayType\")[\"Items\"].count().sort_values(ascending=False))"
   ]
  },
  {
   "cell_type": "markdown",
   "id": "da51e775",
   "metadata": {},
   "source": [
    "Counted each daypart value and sorted in descending order"
   ]
  },
  {
   "cell_type": "code",
   "execution_count": 16,
   "id": "b0e1f495",
   "metadata": {},
   "outputs": [
    {
     "data": {
      "image/png": "[encoded data removed]",
      "text/plain": [
       "<Figure size 1000x600 with 1 Axes>"
      ]
     },
     "metadata": {},
     "output_type": "display_data"
    }
   ],
   "source": [
    "plt.figure(figsize=(10,6))\n",
    "plt.pie(daytype.values(), labels=daytype.keys(), explode = [0, 0.01], colors = sns.color_palette(\"Set2\")[5:7], autopct='%.2f%%')\n",
    "plt.tight_layout()\n",
    "plt.legend()\n",
    "plt.show()\n"
   ]
  },
  {
   "cell_type": "markdown",
   "id": "4a0ab5da",
   "metadata": {},
   "source": [
    "Most of the transactions are made in weekdays\n",
    "Percentage of transactions in weekend is 37.5%"
   ]
  },
  {
   "cell_type": "markdown",
   "id": "10d20222",
   "metadata": {},
   "source": [
    "# Visualizing the weeekday feature"
   ]
  },
  {
   "cell_type": "code",
   "execution_count": 17,
   "id": "3e51cf85",
   "metadata": {},
   "outputs": [],
   "source": [
    "weekday = dict(df.groupby(\"weekday\")[\"Items\"].count().sort_values(ascending=False))"
   ]
  },
  {
   "cell_type": "markdown",
   "id": "c481547b",
   "metadata": {},
   "source": [
    "Counted each weekday value and sorted in descending order"
   ]
  },
  {
   "cell_type": "code",
   "execution_count": 18,
   "id": "d6e6ab27",
   "metadata": {},
   "outputs": [
    {
     "data": {
      "text/plain": [
       "<Axes: >"
      ]
     },
     "execution_count": 18,
     "metadata": {},
     "output_type": "execute_result"
    },
    {
     "data": {
      "image/png": "[encoded data removed]",
      "text/plain": [
       "<Figure size 1000x600 with 1 Axes>"
      ]
     },
     "metadata": {},
     "output_type": "display_data"
    }
   ],
   "source": [
    "plt.figure(figsize=(10,6))\n",
    "sns.barplot(y=list(weekday.keys()), x=list(weekday.values()), palette=\"Reds_r\", orient = \"h\")"
   ]
  },
  {
   "cell_type": "markdown",
   "id": "a49bef74",
   "metadata": {},
   "source": [
    "1. Most active days are saturday, friday and sunday\n",
    "2. These days are either weekend or last day of the weekday such as friday\n",
    "3. Least active days are wednesday, thursday and tuesday\n",
    "4. These days are mid-days of the weekdays"
   ]
  },
  {
   "cell_type": "markdown",
   "id": "5342ee68",
   "metadata": {},
   "source": [
    "# Visualizing the year feature"
   ]
  },
  {
   "cell_type": "code",
   "execution_count": 19,
   "id": "ac86da45",
   "metadata": {},
   "outputs": [],
   "source": [
    "year = dict(df.groupby(\"year\")[\"Items\"].count().sort_values(ascending=False))"
   ]
  },
  {
   "cell_type": "markdown",
   "id": "1ace1d66",
   "metadata": {},
   "source": [
    "Counted each year value and sorted in descending order"
   ]
  },
  {
   "cell_type": "code",
   "execution_count": 20,
   "id": "8c43d640",
   "metadata": {},
   "outputs": [
    {
     "data": {
      "image/png": "[encoded data removed]",
      "text/plain": [
       "<Figure size 1000x600 with 1 Axes>"
      ]
     },
     "metadata": {},
     "output_type": "display_data"
    }
   ],
   "source": [
    "plt.figure(figsize=(10,6))\n",
    "plt.pie(year.values(), labels=year.keys(), explode = [0, 0.01], colors = sns.color_palette(\"hls\",8)[5:3:-1], autopct='%.2f%%')\n",
    "plt.tight_layout()\n",
    "plt.legend()\n",
    "plt.show()"
   ]
  },
  {
   "cell_type": "markdown",
   "id": "9f8541de",
   "metadata": {},
   "source": [
    "First quarter of 2017 is more active than the last quarter of 2016"
   ]
  },
  {
   "cell_type": "markdown",
   "id": "0433570d",
   "metadata": {},
   "source": [
    "# Visualizing the month feature"
   ]
  },
  {
   "cell_type": "code",
   "execution_count": 21,
   "id": "da9e0b79",
   "metadata": {},
   "outputs": [],
   "source": [
    "month = dict(df.groupby(\"month\")[\"Items\"].count().sort_values(ascending=False))"
   ]
  },
  {
   "cell_type": "code",
   "execution_count": 22,
   "id": "1aa600f4",
   "metadata": {},
   "outputs": [
    {
     "data": {
      "text/plain": [
       "{11: 4436, 3: 3944, 2: 3906, 1: 3356, 12: 3339, 4: 1157, 10: 369}"
      ]
     },
     "execution_count": 22,
     "metadata": {},
     "output_type": "execute_result"
    }
   ],
   "source": [
    "month"
   ]
  },
  {
   "cell_type": "markdown",
   "id": "aaee8147",
   "metadata": {},
   "source": [
    "Counted each month value and sorted in descending order"
   ]
  },
  {
   "cell_type": "code",
   "execution_count": null,
   "id": "dc3c7589",
   "metadata": {},
   "outputs": [],
   "source": []
  },
  {
   "cell_type": "code",
   "execution_count": 24,
   "id": "a84a0df3",
   "metadata": {},
   "outputs": [
    {
     "data": {
      "image/png": "[encoded data removed]",
      "text/plain": [
       "<Figure size 1400x600 with 1 Axes>"
      ]
     },
     "metadata": {},
     "output_type": "display_data"
    }
   ],
   "source": [
    "months = [\"November\", \"March\", \"January\", \"February\", \"December\", \"April\", \"October\", \"May\", \"July\", \"June\", \"August\", \"September\"]\n",
    "month_values = [12, 3, 1, 2, 12, 4, 10, 5, 7, 6, 8, 9]\n",
    "\n",
    "# Create the bar plot\n",
    "plt.figure(figsize=(14, 6))\n",
    "sns.barplot(x=months, y=month_values)\n",
    "plt.show()"
   ]
  },
  {
   "cell_type": "markdown",
   "id": "18ae9303",
   "metadata": {},
   "source": [
    "March, november and january are the most active months\n",
    "These months can be considered in winter session\n",
    "June, august and september are the least active months\n",
    "These months can be considered in summer session"
   ]
  },
  {
   "cell_type": "code",
   "execution_count": 27,
   "id": "03e0369c",
   "metadata": {},
   "outputs": [
    {
     "data": {
      "image/png": "[encoded data removed]",
      "text/plain": [
       "<Figure size 1400x600 with 1 Axes>"
      ]
     },
     "metadata": {},
     "output_type": "display_data"
    }
   ],
   "source": [
    "# Define the data as a dictionary\n",
    "data = {\n",
    "    \"Month\": [\"November\", \"March\", \"January\", \"February\", \"December\", \"April\", \"October\", \"May\", \"July\", \"June\", \"August\", \"September\"],\n",
    "    \"Value\": [12, 3, 1, 2, 12, 4, 10, 5, 7, 6, 8, 9]\n",
    "}\n",
    "\n",
    "# Create a DataFrame from the data\n",
    "df = pd.DataFrame(data)\n",
    "\n",
    "# Sort the DataFrame in descending order by 'Value'\n",
    "df = df.sort_values(by='Value', ascending=False)\n",
    "\n",
    "# Create the bar plot\n",
    "plt.figure(figsize=(14, 6))\n",
    "sns.barplot(data=df, x='Month', y='Value')\n",
    "plt.xticks(rotation=45)  # Rotate x-tick labels for better visibility\n",
    "plt.show()"
   ]
  },
  {
   "cell_type": "markdown",
   "id": "cc0d3d36",
   "metadata": {},
   "source": [
    "# Task 2 - Preprocess the Data (For Frequent Pattern Mining)\n"
   ]
  },
  {
   "cell_type": "markdown",
   "id": "4add26fd",
   "metadata": {},
   "source": [
    "Detecting the least frequent items"
   ]
  },
  {
   "cell_type": "code",
   "execution_count": 34,
   "id": "37da9742",
   "metadata": {},
   "outputs": [
    {
     "data": {
      "text/html": [
       "<div>\n",
       "<style scoped>\n",
       "    .dataframe tbody tr th:only-of-type {\n",
       "        vertical-align: middle;\n",
       "    }\n",
       "\n",
       "    .dataframe tbody tr th {\n",
       "        vertical-align: top;\n",
       "    }\n",
       "\n",
       "    .dataframe thead th {\n",
       "        text-align: right;\n",
       "    }\n",
       "</style>\n",
       "<table border=\"1\" class=\"dataframe\">\n",
       "  <thead>\n",
       "    <tr style=\"text-align: right;\">\n",
       "      <th></th>\n",
       "      <th>TransactionNo</th>\n",
       "      <th>Items</th>\n",
       "      <th>DateTime</th>\n",
       "      <th>Daypart</th>\n",
       "      <th>DayType</th>\n",
       "    </tr>\n",
       "  </thead>\n",
       "  <tbody>\n",
       "    <tr>\n",
       "      <th>0</th>\n",
       "      <td>1</td>\n",
       "      <td>Bread</td>\n",
       "      <td>30-10-2016 09:58</td>\n",
       "      <td>Morning</td>\n",
       "      <td>Weekend</td>\n",
       "    </tr>\n",
       "    <tr>\n",
       "      <th>1</th>\n",
       "      <td>2</td>\n",
       "      <td>Scandinavian</td>\n",
       "      <td>30-10-2016 10:05</td>\n",
       "      <td>Morning</td>\n",
       "      <td>Weekend</td>\n",
       "    </tr>\n",
       "    <tr>\n",
       "      <th>2</th>\n",
       "      <td>2</td>\n",
       "      <td>Scandinavian</td>\n",
       "      <td>30-10-2016 10:05</td>\n",
       "      <td>Morning</td>\n",
       "      <td>Weekend</td>\n",
       "    </tr>\n",
       "    <tr>\n",
       "      <th>3</th>\n",
       "      <td>3</td>\n",
       "      <td>Hot chocolate</td>\n",
       "      <td>30-10-2016 10:07</td>\n",
       "      <td>Morning</td>\n",
       "      <td>Weekend</td>\n",
       "    </tr>\n",
       "    <tr>\n",
       "      <th>4</th>\n",
       "      <td>3</td>\n",
       "      <td>Jam</td>\n",
       "      <td>30-10-2016 10:07</td>\n",
       "      <td>Morning</td>\n",
       "      <td>Weekend</td>\n",
       "    </tr>\n",
       "    <tr>\n",
       "      <th>...</th>\n",
       "      <td>...</td>\n",
       "      <td>...</td>\n",
       "      <td>...</td>\n",
       "      <td>...</td>\n",
       "      <td>...</td>\n",
       "    </tr>\n",
       "    <tr>\n",
       "      <th>20502</th>\n",
       "      <td>9682</td>\n",
       "      <td>Coffee</td>\n",
       "      <td>04-09-2017 14:32</td>\n",
       "      <td>Afternoon</td>\n",
       "      <td>Weekend</td>\n",
       "    </tr>\n",
       "    <tr>\n",
       "      <th>20503</th>\n",
       "      <td>9682</td>\n",
       "      <td>Tea</td>\n",
       "      <td>04-09-2017 14:32</td>\n",
       "      <td>Afternoon</td>\n",
       "      <td>Weekend</td>\n",
       "    </tr>\n",
       "    <tr>\n",
       "      <th>20504</th>\n",
       "      <td>9683</td>\n",
       "      <td>Coffee</td>\n",
       "      <td>04-09-2017 14:57</td>\n",
       "      <td>Afternoon</td>\n",
       "      <td>Weekend</td>\n",
       "    </tr>\n",
       "    <tr>\n",
       "      <th>20505</th>\n",
       "      <td>9683</td>\n",
       "      <td>Pastry</td>\n",
       "      <td>04-09-2017 14:57</td>\n",
       "      <td>Afternoon</td>\n",
       "      <td>Weekend</td>\n",
       "    </tr>\n",
       "    <tr>\n",
       "      <th>20506</th>\n",
       "      <td>9684</td>\n",
       "      <td>Smoothies</td>\n",
       "      <td>04-09-2017 15:04</td>\n",
       "      <td>Afternoon</td>\n",
       "      <td>Weekend</td>\n",
       "    </tr>\n",
       "  </tbody>\n",
       "</table>\n",
       "<p>20507 rows × 5 columns</p>\n",
       "</div>"
      ],
      "text/plain": [
       "       TransactionNo          Items          DateTime    Daypart  DayType\n",
       "0                  1          Bread  30-10-2016 09:58    Morning  Weekend\n",
       "1                  2   Scandinavian  30-10-2016 10:05    Morning  Weekend\n",
       "2                  2   Scandinavian  30-10-2016 10:05    Morning  Weekend\n",
       "3                  3  Hot chocolate  30-10-2016 10:07    Morning  Weekend\n",
       "4                  3            Jam  30-10-2016 10:07    Morning  Weekend\n",
       "...              ...            ...               ...        ...      ...\n",
       "20502           9682         Coffee  04-09-2017 14:32  Afternoon  Weekend\n",
       "20503           9682            Tea  04-09-2017 14:32  Afternoon  Weekend\n",
       "20504           9683         Coffee  04-09-2017 14:57  Afternoon  Weekend\n",
       "20505           9683         Pastry  04-09-2017 14:57  Afternoon  Weekend\n",
       "20506           9684      Smoothies  04-09-2017 15:04  Afternoon  Weekend\n",
       "\n",
       "[20507 rows x 5 columns]"
      ]
     },
     "execution_count": 34,
     "metadata": {},
     "output_type": "execute_result"
    }
   ],
   "source": [
    "df=pd.read_csv(\"bakery.csv\")\n",
    "df"
   ]
  },
  {
   "cell_type": "code",
   "execution_count": 35,
   "id": "d4dc4c83",
   "metadata": {
    "scrolled": true
   },
   "outputs": [
    {
     "data": {
      "text/plain": [
       "Chimichurri Oil    2\n",
       "Siblings           2\n",
       "Chicken sand       1\n",
       "The BART           1\n",
       "Adjustment         1\n",
       "Bacon              1\n",
       "Gift voucher       1\n",
       "Olum & polenta     1\n",
       "Raw bars           1\n",
       "Polenta            1\n",
       "Name: Items, dtype: int64"
      ]
     },
     "execution_count": 35,
     "metadata": {},
     "output_type": "execute_result"
    }
   ],
   "source": [
    "val_counts = df['Items'].value_counts()\n",
    "val_counts.tail(10)"
   ]
  },
  {
   "cell_type": "markdown",
   "id": "dfe34aec",
   "metadata": {},
   "source": [
    "1. An item appeared in transactions only once has not any chance to be in the most frequent pattern\n",
    "2. So they had to be removed, they are saved to a list"
   ]
  },
  {
   "cell_type": "code",
   "execution_count": 36,
   "id": "0cd90478",
   "metadata": {},
   "outputs": [],
   "source": [
    "excluded = list(val_counts[val_counts.values < 2].index)\n"
   ]
  },
  {
   "cell_type": "markdown",
   "id": "ebf1a877",
   "metadata": {},
   "source": [
    "Obtaining the transactions"
   ]
  },
  {
   "cell_type": "code",
   "execution_count": 37,
   "id": "fc2e4ebf",
   "metadata": {},
   "outputs": [],
   "source": [
    "transactions=[]\n",
    "for action in df2[\"TransactionNo\"].unique():\n",
    "    transaction=list(set(df2[df2[\"TransactionNo\"]==action]['Items']))\n",
    "    if not any(x in transaction for x in excluded):\n",
    "        if len(transaction) != 1:\n",
    "            transactions.append(transaction)"
   ]
  },
  {
   "cell_type": "markdown",
   "id": "6eea8be6",
   "metadata": {},
   "source": [
    "1. We have 20000 entries but most of them are indicates only one transaction but shown in multiple rows\n",
    "2. So they had to be merged in one transaction\n",
    "3. The items bought only once did not counted\n",
    "4. Also, the transactions contains only one item did not counted since it has no chance to be a most frequent pattern\n",
    "\n",
    "\n",
    "before filtering, len = 9465"
   ]
  },
  {
   "cell_type": "code",
   "execution_count": 38,
   "id": "00d22c10",
   "metadata": {},
   "outputs": [
    {
     "data": {
      "text/plain": [
       "5510"
      ]
     },
     "execution_count": 38,
     "metadata": {},
     "output_type": "execute_result"
    }
   ],
   "source": [
    "len(transactions)"
   ]
  },
  {
   "cell_type": "markdown",
   "id": "a2966313",
   "metadata": {},
   "source": [
    "after filtering, len = 5510"
   ]
  },
  {
   "cell_type": "markdown",
   "id": "ec970091",
   "metadata": {},
   "source": [
    "Looking at the first 20 transactions"
   ]
  },
  {
   "cell_type": "code",
   "execution_count": 58,
   "id": "089f5c71",
   "metadata": {},
   "outputs": [
    {
     "data": {
      "text/plain": [
       "[['Jam', 'Hot chocolate', 'Cookies'],\n",
       " ['Coffee', 'Bread', 'Pastry'],\n",
       " ['Muffin', 'Medialuna', 'Pastry'],\n",
       " ['Coffee', 'Medialuna', 'Pastry', 'Tea'],\n",
       " ['Bread', 'Pastry'],\n",
       " ['Bread', 'Muffin'],\n",
       " ['Scandinavian', 'Medialuna'],\n",
       " ['Medialuna', 'Bread'],\n",
       " ['Coffee', 'Tea', 'Pastry', 'Tartine', 'Jam'],\n",
       " ['Coffee', 'Bread', 'Basket'],\n",
       " ['Medialuna', 'Bread', 'Pastry'],\n",
       " ['Scandinavian', 'Mineral water'],\n",
       " ['Coffee', 'Medialuna', 'Bread'],\n",
       " ['Bread', 'Farm House'],\n",
       " ['Medialuna', 'Bread'],\n",
       " ['Coffee', 'Medialuna', 'Bread'],\n",
       " ['Scandinavian', 'Muffin'],\n",
       " ['Coffee', 'Bread'],\n",
       " ['Bread', 'Jam'],\n",
       " ['Scandinavian', 'Muffin']]"
      ]
     },
     "execution_count": 58,
     "metadata": {},
     "output_type": "execute_result"
    }
   ],
   "source": [
    "transactions[0:20]"
   ]
  },
  {
   "cell_type": "markdown",
   "id": "9a1fd874",
   "metadata": {},
   "source": [
    "# Task 4 - Implementing the Apriori Algorithm"
   ]
  },
  {
   "cell_type": "markdown",
   "id": "f952bbcf",
   "metadata": {},
   "source": [
    "Necessary import"
   ]
  },
  {
   "cell_type": "code",
   "execution_count": 40,
   "id": "07956fc5",
   "metadata": {},
   "outputs": [],
   "source": [
    "from itertools import combinations"
   ]
  },
  {
   "cell_type": "markdown",
   "id": "68396216",
   "metadata": {},
   "source": [
    "\"combinations\" function will help to obtain how many combinations of items we can get"
   ]
  },
  {
   "cell_type": "markdown",
   "id": "5576f769",
   "metadata": {},
   "source": [
    "Helper functions of apriori algorithm"
   ]
  },
  {
   "cell_type": "code",
   "execution_count": 41,
   "id": "52bbdeba",
   "metadata": {},
   "outputs": [],
   "source": [
    "def item_counter(data):\n",
    "    counts = {}\n",
    "    for action in data:\n",
    "        for item in action:\n",
    "            counts[item]=0\n",
    "    for action in data:\n",
    "        for item in action:\n",
    "            counts[item] += 1\n",
    "        \n",
    "    return counts"
   ]
  },
  {
   "cell_type": "markdown",
   "id": "0aaf4fde",
   "metadata": {},
   "source": [
    "1. item_counter function takes one argument as transaction list\n",
    "2. For each item in this list, it counts each element separately\n",
    "3. Returns the dictionary of item counts named counts"
   ]
  },
  {
   "cell_type": "code",
   "execution_count": 42,
   "id": "20ca6d08",
   "metadata": {},
   "outputs": [],
   "source": [
    "def remove_non_sup(dic, min_sup):\n",
    "    non_freq = []\n",
    "    for k,v in dic.items():\n",
    "        if v < min_sup:\n",
    "            non_freq.append(k)\n",
    "    [dic.pop(key) for key in non_freq]\n",
    "    return dic"
   ]
  },
  {
   "cell_type": "markdown",
   "id": "57c9503c",
   "metadata": {},
   "source": [
    "1. remove_non_sup function takes two arguments as item counts dictionary and minimum support value\n",
    "2. For each item count in dictionary, it filters the items which have value less than minimum support\n",
    "3. support (count) of X, sup{X}: Frequency or the number of occurrences of an itemset X"
   ]
  },
  {
   "cell_type": "code",
   "execution_count": 43,
   "id": "8b712530",
   "metadata": {},
   "outputs": [],
   "source": [
    "def check_valid_pairs(data, pairs):\n",
    "    valid_pairs=[]\n",
    "    for action in data:\n",
    "        for pair in pairs:\n",
    "            if all(x in action for x in pair):\n",
    "                valid_pairs.append(pair)\n",
    "    return list(set(valid_pairs))"
   ]
  },
  {
   "cell_type": "markdown",
   "id": "cf65df14",
   "metadata": {},
   "source": [
    "1. check_valid_pairs function takes two arguments as transaction list and all possible pair combinations\n",
    "2. As the name suggests, it checks these combinations are valid or not\n",
    "3. By saying valid, we mean that if the possible pair is in transactions or not\n",
    "4. Possible valid pairs must be in transaction list\n",
    "5. This function basically does pruning to increase the computational efficiency"
   ]
  },
  {
   "cell_type": "code",
   "execution_count": 44,
   "id": "28f6f758",
   "metadata": {},
   "outputs": [],
   "source": [
    "\n",
    "def pair_counter(data, val_pairs):\n",
    "    counts = {}\n",
    "    for action in data:\n",
    "        for pair in val_pairs:\n",
    "            counts[pair]=0\n",
    "    for action in data:\n",
    "        for pair in val_pairs:\n",
    "            if all(x in action for x in pair):\n",
    "                counts[pair] += 1\n",
    "    return counts"
   ]
  },
  {
   "cell_type": "markdown",
   "id": "1aa7fd04",
   "metadata": {},
   "source": [
    "1. pair_counter function takes two arguments as transaction list and valid pairs\n",
    "2. It searchs for validated pairs in transaction list, counts them and saves the values to the dict named counts\n",
    "3. Simply pairwise version of item_counter"
   ]
  },
  {
   "cell_type": "code",
   "execution_count": 45,
   "id": "c39dbb79",
   "metadata": {},
   "outputs": [],
   "source": [
    "def unique_items(dic, chk):\n",
    "    uniques = []\n",
    "    for i in range(len(list(dic.keys()))):\n",
    "        for j in range(chk):\n",
    "            uniques.append(list(dic.keys())[i][j])\n",
    "    return list(set(uniques))"
   ]
  },
  {
   "cell_type": "markdown",
   "id": "d4f0bfd0",
   "metadata": {},
   "source": [
    "1. unique_items function takes two arguments as pair counts and check number\n",
    "2. check number helps to determine the number of items in the possible combinations\n",
    "3. For each step, check number increases by one, so that it can determine the number of items in possible combinations in each step\n",
    "4. This function detects the unique items in the pair counts and saves them to the uniques list\n",
    "5. Why do we need that? Because some combinations can contain the same item. By detecting the unique items, they can ready to be combined. Otherwise there would some combinations that has duplicated items"
   ]
  },
  {
   "cell_type": "markdown",
   "id": "6a1e9a35",
   "metadata": {},
   "source": [
    "This is the main function of the implementation"
   ]
  },
  {
   "cell_type": "code",
   "execution_count": 46,
   "id": "834dce4d",
   "metadata": {},
   "outputs": [],
   "source": [
    "check = 2\n",
    "prev_counts = {}\n",
    "def apriori(data, min_sup):  \n",
    "    res_counts = item_counter(data)\n",
    "    new_counts = remove_non_sup(res_counts, min_sup)\n",
    "    all_pairs = list(combinations(list(new_counts.keys()), 2))\n",
    "    def iteration(data, pairs, min_sup):\n",
    "        global check, prev_counts\n",
    "        valid_pairs = check_valid_pairs(data, pairs)\n",
    "        res_counts = pair_counter(data, valid_pairs)\n",
    "        new_counts = remove_non_sup(res_counts, min_sup)\n",
    "        unq_item = unique_items(new_counts, check)\n",
    "        check += 1\n",
    "        all_pairs = list(combinations(unq_item, check))\n",
    "        if len(all_pairs) != 0:\n",
    "            prev_counts = new_counts\n",
    "            iteration(data, all_pairs, min_sup)\n",
    "        check = 2\n",
    "        return prev_counts\n",
    "        \n",
    "    return iteration(data, all_pairs, min_sup)"
   ]
  },
  {
   "cell_type": "markdown",
   "id": "66f99c59",
   "metadata": {},
   "source": [
    "1. This function takes two arguments as transactions list and minimum support value\n",
    "2. It calls the item_counter and saves the item counts to res_counts\n",
    "3. Next, it calls the remove_non_sup and saves the counts which have higher value than minimum support to new_counts\n",
    "4. After that, it combines all of the possibilities of these items\n",
    "5. This process defines the first iteration which contains only single items. For the remaining iterations, it needs to another function which is compatible to dealing with item pairs\n",
    "6. That's why, iteration function is deployed\n",
    "iteration function takes the same argument as its parent function but additionaly accepts the all possible pairs\n",
    "7. It calls the check_valid_pairs to check the all possible pairs if they are valid or not and saves the valid ones to valid_pairs\n",
    "8. Next, it calls the pair_counter to count each pair and saves to the dictionary named res_counts\n",
    "9. After, it calls the remove_non_sup and saves the pair counts which have higher value than minimum support to new_counts\n",
    "10. To determine the unique items for each pair, it calls the unique_items and saves these items to unq_item\n",
    "check is increased by 1 because the items which provides the conditions are detected and the next step is determining the new combinations\n",
    "11. These combinations are detected and saved as a list to all_pairs\n",
    "At this step, it checks the condition if the process is done\n",
    "12. In order to checking, it looks the length of all_pairs and if all_pairs is not empty, then the process must be continued. So the iteration function calls itself with new pairs list\n",
    "13. But before calling itself, it saves the count of item pairs obtained in this step to prev_counts\n",
    "14. If the next step does not return any pairs, it means the previous step is the last step. So it needs to save the last step's results to return them as the solution\n",
    "15. If the all_pairs is empty, then it returns the previous step's solution1. \n"
   ]
  },
  {
   "cell_type": "markdown",
   "id": "22cda5e1",
   "metadata": {},
   "source": [
    "Example usage of apriori algorithm with 500 minimum support value"
   ]
  },
  {
   "cell_type": "code",
   "execution_count": 47,
   "id": "fbda38da",
   "metadata": {},
   "outputs": [
    {
     "data": {
      "text/plain": [
       "{('Coffee', 'Cake'): 518, ('Coffee', 'Bread'): 852}"
      ]
     },
     "execution_count": 47,
     "metadata": {},
     "output_type": "execute_result"
    }
   ],
   "source": [
    "freq = apriori(transactions, 500)\n",
    "freq"
   ]
  },
  {
   "cell_type": "markdown",
   "id": "c893b112",
   "metadata": {},
   "source": [
    "It gets only count values with higher than 500"
   ]
  },
  {
   "cell_type": "markdown",
   "id": "60fd729e",
   "metadata": {},
   "source": [
    "# Task 5 - Taking the Final Result and Compare with the Actual Algorithm"
   ]
  },
  {
   "cell_type": "markdown",
   "id": "04e476e3",
   "metadata": {},
   "source": [
    "This is one of the most frequent pair and it's support value"
   ]
  },
  {
   "cell_type": "code",
   "execution_count": 48,
   "id": "051ba0d3",
   "metadata": {},
   "outputs": [
    {
     "name": "stdout",
     "output_type": "stream",
     "text": [
      "('Coffee', 'Cake')\n",
      "518\n",
      "9.4011\n"
     ]
    }
   ],
   "source": [
    "print(list(freq.keys())[0])\n",
    "print(list(freq.values())[0])\n",
    "print(round(list(freq.values())[0] / len(transactions)*100, 4))"
   ]
  },
  {
   "cell_type": "markdown",
   "id": "7ac2bd33",
   "metadata": {},
   "source": [
    "Support value indicates what percentage of transactions contains the (Coffee, Bread) pair\n",
    "To obtain this score, divide the support count to the length of the transactions and multiply by 100\n",
    "Output says, 15.4% of the transactions involves this pair"
   ]
  },
  {
   "cell_type": "markdown",
   "id": "5af5cfe3",
   "metadata": {},
   "source": [
    "This is the most frequent pair"
   ]
  },
  {
   "cell_type": "code",
   "execution_count": 49,
   "id": "420452a8",
   "metadata": {},
   "outputs": [
    {
     "name": "stdout",
     "output_type": "stream",
     "text": [
      "('Coffee', 'Bread')\n",
      "852\n",
      "15.4628\n"
     ]
    }
   ],
   "source": [
    "print(list(freq.keys())[1])\n",
    "print(list(freq.values())[1])\n",
    "print(round(list(freq.values())[1] / len(transactions)*100,4))"
   ]
  },
  {
   "cell_type": "markdown",
   "id": "0e9b992b",
   "metadata": {},
   "source": [
    "9.4% of the transactions involves (Coffee, Bread) pair\n",
    "\n",
    "\n",
    "To compare this results with the actual apriori algorithm, mlxtend is imported"
   ]
  },
  {
   "cell_type": "code",
   "execution_count": 63,
   "id": "913d501b",
   "metadata": {},
   "outputs": [
    {
     "name": "stdout",
     "output_type": "stream",
     "text": [
      "Requirement already satisfied: mlxtend in c:\\users\\dasni\\anaconda3\\lib\\site-packages (0.23.0)\n",
      "Requirement already satisfied: scipy>=1.2.1 in c:\\users\\dasni\\anaconda3\\lib\\site-packages (from mlxtend) (1.10.1)\n",
      "Requirement already satisfied: numpy>=1.16.2 in c:\\users\\dasni\\anaconda3\\lib\\site-packages (from mlxtend) (1.24.3)\n",
      "Requirement already satisfied: pandas>=0.24.2 in c:\\users\\dasni\\anaconda3\\lib\\site-packages (from mlxtend) (1.5.3)\n",
      "Requirement already satisfied: scikit-learn>=1.0.2 in c:\\users\\dasni\\anaconda3\\lib\\site-packages (from mlxtend) (1.3.0)\n",
      "Requirement already satisfied: matplotlib>=3.0.0 in c:\\users\\dasni\\anaconda3\\lib\\site-packages (from mlxtend) (3.7.1)\n",
      "Requirement already satisfied: joblib>=0.13.2 in c:\\users\\dasni\\anaconda3\\lib\\site-packages (from mlxtend) (1.2.0)\n",
      "Requirement already satisfied: contourpy>=1.0.1 in c:\\users\\dasni\\anaconda3\\lib\\site-packages (from matplotlib>=3.0.0->mlxtend) (1.0.5)\n",
      "Requirement already satisfied: cycler>=0.10 in c:\\users\\dasni\\anaconda3\\lib\\site-packages (from matplotlib>=3.0.0->mlxtend) (0.11.0)\n",
      "Requirement already satisfied: fonttools>=4.22.0 in c:\\users\\dasni\\anaconda3\\lib\\site-packages (from matplotlib>=3.0.0->mlxtend) (4.25.0)\n",
      "Requirement already satisfied: kiwisolver>=1.0.1 in c:\\users\\dasni\\anaconda3\\lib\\site-packages (from matplotlib>=3.0.0->mlxtend) (1.4.4)\n",
      "Requirement already satisfied: packaging>=20.0 in c:\\users\\dasni\\anaconda3\\lib\\site-packages (from matplotlib>=3.0.0->mlxtend) (23.0)\n",
      "Requirement already satisfied: pillow>=6.2.0 in c:\\users\\dasni\\anaconda3\\lib\\site-packages (from matplotlib>=3.0.0->mlxtend) (9.4.0)\n",
      "Requirement already satisfied: pyparsing>=2.3.1 in c:\\users\\dasni\\anaconda3\\lib\\site-packages (from matplotlib>=3.0.0->mlxtend) (3.0.9)\n",
      "Requirement already satisfied: python-dateutil>=2.7 in c:\\users\\dasni\\anaconda3\\lib\\site-packages (from matplotlib>=3.0.0->mlxtend) (2.8.2)\n",
      "Requirement already satisfied: pytz>=2020.1 in c:\\users\\dasni\\anaconda3\\lib\\site-packages (from pandas>=0.24.2->mlxtend) (2022.7)\n",
      "Requirement already satisfied: threadpoolctl>=2.0.0 in c:\\users\\dasni\\anaconda3\\lib\\site-packages (from scikit-learn>=1.0.2->mlxtend) (2.2.0)\n",
      "Requirement already satisfied: six>=1.5 in c:\\users\\dasni\\anaconda3\\lib\\site-packages (from python-dateutil>=2.7->matplotlib>=3.0.0->mlxtend) (1.16.0)\n",
      "Note: you may need to restart the kernel to use updated packages.\n"
     ]
    }
   ],
   "source": [
    "pip install mlxtend"
   ]
  },
  {
   "cell_type": "code",
   "execution_count": 64,
   "id": "a7b2fb99",
   "metadata": {},
   "outputs": [
    {
     "name": "stdout",
     "output_type": "stream",
     "text": [
      "Requirement already satisfied: mlxtend in c:\\users\\dasni\\anaconda3\\lib\\site-packages (0.23.0)\n",
      "Requirement already satisfied: scipy>=1.2.1 in c:\\users\\dasni\\anaconda3\\lib\\site-packages (from mlxtend) (1.10.1)\n",
      "Requirement already satisfied: numpy>=1.16.2 in c:\\users\\dasni\\anaconda3\\lib\\site-packages (from mlxtend) (1.24.3)\n",
      "Requirement already satisfied: pandas>=0.24.2 in c:\\users\\dasni\\anaconda3\\lib\\site-packages (from mlxtend) (1.5.3)\n",
      "Requirement already satisfied: scikit-learn>=1.0.2 in c:\\users\\dasni\\anaconda3\\lib\\site-packages (from mlxtend) (1.3.0)\n",
      "Requirement already satisfied: matplotlib>=3.0.0 in c:\\users\\dasni\\anaconda3\\lib\\site-packages (from mlxtend) (3.7.1)\n",
      "Requirement already satisfied: joblib>=0.13.2 in c:\\users\\dasni\\anaconda3\\lib\\site-packages (from mlxtend) (1.2.0)\n",
      "Requirement already satisfied: contourpy>=1.0.1 in c:\\users\\dasni\\anaconda3\\lib\\site-packages (from matplotlib>=3.0.0->mlxtend) (1.0.5)\n",
      "Requirement already satisfied: cycler>=0.10 in c:\\users\\dasni\\anaconda3\\lib\\site-packages (from matplotlib>=3.0.0->mlxtend) (0.11.0)\n",
      "Requirement already satisfied: fonttools>=4.22.0 in c:\\users\\dasni\\anaconda3\\lib\\site-packages (from matplotlib>=3.0.0->mlxtend) (4.25.0)\n",
      "Requirement already satisfied: kiwisolver>=1.0.1 in c:\\users\\dasni\\anaconda3\\lib\\site-packages (from matplotlib>=3.0.0->mlxtend) (1.4.4)\n",
      "Requirement already satisfied: packaging>=20.0 in c:\\users\\dasni\\anaconda3\\lib\\site-packages (from matplotlib>=3.0.0->mlxtend) (23.0)\n",
      "Requirement already satisfied: pillow>=6.2.0 in c:\\users\\dasni\\anaconda3\\lib\\site-packages (from matplotlib>=3.0.0->mlxtend) (9.4.0)\n",
      "Requirement already satisfied: pyparsing>=2.3.1 in c:\\users\\dasni\\anaconda3\\lib\\site-packages (from matplotlib>=3.0.0->mlxtend) (3.0.9)\n",
      "Requirement already satisfied: python-dateutil>=2.7 in c:\\users\\dasni\\anaconda3\\lib\\site-packages (from matplotlib>=3.0.0->mlxtend) (2.8.2)\n",
      "Requirement already satisfied: pytz>=2020.1 in c:\\users\\dasni\\anaconda3\\lib\\site-packages (from pandas>=0.24.2->mlxtend) (2022.7)\n",
      "Requirement already satisfied: threadpoolctl>=2.0.0 in c:\\users\\dasni\\anaconda3\\lib\\site-packages (from scikit-learn>=1.0.2->mlxtend) (2.2.0)\n",
      "Requirement already satisfied: six>=1.5 in c:\\users\\dasni\\anaconda3\\lib\\site-packages (from python-dateutil>=2.7->matplotlib>=3.0.0->mlxtend) (1.16.0)\n",
      "Note: you may need to restart the kernel to use updated packages.\n"
     ]
    }
   ],
   "source": [
    "pip install --upgrade mlxtend"
   ]
  },
  {
   "cell_type": "code",
   "execution_count": 66,
   "id": "4278be1b",
   "metadata": {},
   "outputs": [
    {
     "name": "stdout",
     "output_type": "stream",
     "text": [
      "0.23.0\n"
     ]
    }
   ],
   "source": [
    "import mlxtend\n",
    "print(mlxtend.__version__)"
   ]
  },
  {
   "cell_type": "code",
   "execution_count": 68,
   "id": "bbae4019",
   "metadata": {
    "scrolled": true
   },
   "outputs": [
    {
     "ename": "ImportError",
     "evalue": "cannot import name 'TransactionEncoder' from 'mlxtend.frequent_patterns' (C:\\Users\\dasni\\anaconda3\\Lib\\site-packages\\mlxtend\\frequent_patterns\\__init__.py)",
     "output_type": "error",
     "traceback": [
      "\u001b[1;31m---------------------------------------------------------------------------\u001b[0m",
      "\u001b[1;31mImportError\u001b[0m                               Traceback (most recent call last)",
      "Cell \u001b[1;32mIn[68], line 1\u001b[0m\n\u001b[1;32m----> 1\u001b[0m \u001b[38;5;28;01mfrom\u001b[39;00m \u001b[38;5;21;01mmlxtend\u001b[39;00m\u001b[38;5;21;01m.\u001b[39;00m\u001b[38;5;21;01mfrequent_patterns\u001b[39;00m \u001b[38;5;28;01mimport\u001b[39;00m TransactionEncoder\n",
      "\u001b[1;31mImportError\u001b[0m: cannot import name 'TransactionEncoder' from 'mlxtend.frequent_patterns' (C:\\Users\\dasni\\anaconda3\\Lib\\site-packages\\mlxtend\\frequent_patterns\\__init__.py)"
     ]
    }
   ],
   "source": [
    "from mlxtend.frequent_patterns import TransactionEncoder"
   ]
  },
  {
   "cell_type": "code",
   "execution_count": 67,
   "id": "c51e822e",
   "metadata": {},
   "outputs": [
    {
     "name": "stdout",
     "output_type": "stream",
     "text": [
      "Requirement already satisfied: mlxtend in c:\\users\\dasni\\anaconda3\\lib\\site-packages (0.23.0)\n",
      "Requirement already satisfied: scipy>=1.2.1 in c:\\users\\dasni\\anaconda3\\lib\\site-packages (from mlxtend) (1.10.1)\n",
      "Requirement already satisfied: numpy>=1.16.2 in c:\\users\\dasni\\anaconda3\\lib\\site-packages (from mlxtend) (1.24.3)\n",
      "Requirement already satisfied: pandas>=0.24.2 in c:\\users\\dasni\\anaconda3\\lib\\site-packages (from mlxtend) (1.5.3)\n",
      "Requirement already satisfied: scikit-learn>=1.0.2 in c:\\users\\dasni\\anaconda3\\lib\\site-packages (from mlxtend) (1.3.0)\n",
      "Requirement already satisfied: matplotlib>=3.0.0 in c:\\users\\dasni\\anaconda3\\lib\\site-packages (from mlxtend) (3.7.1)\n",
      "Requirement already satisfied: joblib>=0.13.2 in c:\\users\\dasni\\anaconda3\\lib\\site-packages (from mlxtend) (1.2.0)\n",
      "Requirement already satisfied: contourpy>=1.0.1 in c:\\users\\dasni\\anaconda3\\lib\\site-packages (from matplotlib>=3.0.0->mlxtend) (1.0.5)\n",
      "Requirement already satisfied: cycler>=0.10 in c:\\users\\dasni\\anaconda3\\lib\\site-packages (from matplotlib>=3.0.0->mlxtend) (0.11.0)\n",
      "Requirement already satisfied: fonttools>=4.22.0 in c:\\users\\dasni\\anaconda3\\lib\\site-packages (from matplotlib>=3.0.0->mlxtend) (4.25.0)\n",
      "Requirement already satisfied: kiwisolver>=1.0.1 in c:\\users\\dasni\\anaconda3\\lib\\site-packages (from matplotlib>=3.0.0->mlxtend) (1.4.4)\n",
      "Requirement already satisfied: packaging>=20.0 in c:\\users\\dasni\\anaconda3\\lib\\site-packages (from matplotlib>=3.0.0->mlxtend) (23.0)\n",
      "Requirement already satisfied: pillow>=6.2.0 in c:\\users\\dasni\\anaconda3\\lib\\site-packages (from matplotlib>=3.0.0->mlxtend) (9.4.0)\n",
      "Requirement already satisfied: pyparsing>=2.3.1 in c:\\users\\dasni\\anaconda3\\lib\\site-packages (from matplotlib>=3.0.0->mlxtend) (3.0.9)\n",
      "Requirement already satisfied: python-dateutil>=2.7 in c:\\users\\dasni\\anaconda3\\lib\\site-packages (from matplotlib>=3.0.0->mlxtend) (2.8.2)\n",
      "Requirement already satisfied: pytz>=2020.1 in c:\\users\\dasni\\anaconda3\\lib\\site-packages (from pandas>=0.24.2->mlxtend) (2022.7)\n",
      "Requirement already satisfied: threadpoolctl>=2.0.0 in c:\\users\\dasni\\anaconda3\\lib\\site-packages (from scikit-learn>=1.0.2->mlxtend) (2.2.0)\n",
      "Requirement already satisfied: six>=1.5 in c:\\users\\dasni\\anaconda3\\lib\\site-packages (from python-dateutil>=2.7->matplotlib>=3.0.0->mlxtend) (1.16.0)\n",
      "Note: you may need to restart the kernel to use updated packages.\n"
     ]
    }
   ],
   "source": [
    "pip install mlxtend --upgrade"
   ]
  },
  {
   "cell_type": "code",
   "execution_count": 85,
   "id": "70857564",
   "metadata": {},
   "outputs": [
    {
     "ename": "ImportError",
     "evalue": "cannot import name 'TransactionEncoder' from 'mlxtend.frequent_patterns' (C:\\Users\\dasni\\anaconda3\\Lib\\site-packages\\mlxtend\\frequent_patterns\\__init__.py)",
     "output_type": "error",
     "traceback": [
      "\u001b[1;31m---------------------------------------------------------------------------\u001b[0m",
      "\u001b[1;31mImportError\u001b[0m                               Traceback (most recent call last)",
      "Cell \u001b[1;32mIn[85], line 1\u001b[0m\n\u001b[1;32m----> 1\u001b[0m \u001b[38;5;28;01mfrom\u001b[39;00m \u001b[38;5;21;01mmlxtend\u001b[39;00m\u001b[38;5;21;01m.\u001b[39;00m\u001b[38;5;21;01mfrequent_patterns\u001b[39;00m \u001b[38;5;28;01mimport\u001b[39;00m TransactionEncoder    \n\u001b[0;32m      2\u001b[0m te \u001b[38;5;241m=\u001b[39m TransactionEncoder()\n\u001b[0;32m      3\u001b[0m te_ary \u001b[38;5;241m=\u001b[39m te\u001b[38;5;241m.\u001b[39mfit(transactions)\u001b[38;5;241m.\u001b[39mtransform(transactions)\n",
      "\u001b[1;31mImportError\u001b[0m: cannot import name 'TransactionEncoder' from 'mlxtend.frequent_patterns' (C:\\Users\\dasni\\anaconda3\\Lib\\site-packages\\mlxtend\\frequent_patterns\\__init__.py)"
     ]
    }
   ],
   "source": [
    "from mlxtend.frequent_patterns import TransactionEncoder    \n",
    "te = TransactionEncoder()\n",
    "te_ary = te.fit(transactions).transform(transactions)\n",
    "df = pd.DataFrame(te_ary, columns=te.columns_)\n",
    "df\n"
   ]
  },
  {
   "cell_type": "code",
   "execution_count": 71,
   "id": "ce59ae07",
   "metadata": {},
   "outputs": [
    {
     "data": {
      "text/html": [
       "<div>\n",
       "<style scoped>\n",
       "    .dataframe tbody tr th:only-of-type {\n",
       "        vertical-align: middle;\n",
       "    }\n",
       "\n",
       "    .dataframe tbody tr th {\n",
       "        vertical-align: top;\n",
       "    }\n",
       "\n",
       "    .dataframe thead th {\n",
       "        text-align: right;\n",
       "    }\n",
       "</style>\n",
       "<table border=\"1\" class=\"dataframe\">\n",
       "  <thead>\n",
       "    <tr style=\"text-align: right;\">\n",
       "      <th></th>\n",
       "      <th>Hearty &amp; Seasonal</th>\n",
       "      <th>Mineral water</th>\n",
       "      <th>Toast</th>\n",
       "      <th>Bakewell</th>\n",
       "      <th>Bread Pudding</th>\n",
       "      <th>Cake</th>\n",
       "      <th>Drinking chocolate spoons</th>\n",
       "      <th>Medialuna</th>\n",
       "      <th>Honey</th>\n",
       "      <th>Bowl Nic Pitt</th>\n",
       "      <th>...</th>\n",
       "      <th>Tacos/Fajita</th>\n",
       "      <th>The Nomad</th>\n",
       "      <th>Dulce de Leche</th>\n",
       "      <th>Valentine's card</th>\n",
       "      <th>Pick and Mix Bowls</th>\n",
       "      <th>Ella's Kitchen Pouches</th>\n",
       "      <th>Panatone</th>\n",
       "      <th>Muesli</th>\n",
       "      <th>Postcard</th>\n",
       "      <th>Bare Popcorn</th>\n",
       "    </tr>\n",
       "  </thead>\n",
       "  <tbody>\n",
       "    <tr>\n",
       "      <th>0</th>\n",
       "      <td>0</td>\n",
       "      <td>0</td>\n",
       "      <td>0</td>\n",
       "      <td>0</td>\n",
       "      <td>0</td>\n",
       "      <td>0</td>\n",
       "      <td>0</td>\n",
       "      <td>0</td>\n",
       "      <td>0</td>\n",
       "      <td>0</td>\n",
       "      <td>...</td>\n",
       "      <td>0</td>\n",
       "      <td>0</td>\n",
       "      <td>0</td>\n",
       "      <td>0</td>\n",
       "      <td>0</td>\n",
       "      <td>0</td>\n",
       "      <td>0</td>\n",
       "      <td>0</td>\n",
       "      <td>0</td>\n",
       "      <td>0</td>\n",
       "    </tr>\n",
       "    <tr>\n",
       "      <th>1</th>\n",
       "      <td>0</td>\n",
       "      <td>0</td>\n",
       "      <td>0</td>\n",
       "      <td>0</td>\n",
       "      <td>0</td>\n",
       "      <td>0</td>\n",
       "      <td>0</td>\n",
       "      <td>0</td>\n",
       "      <td>0</td>\n",
       "      <td>0</td>\n",
       "      <td>...</td>\n",
       "      <td>0</td>\n",
       "      <td>0</td>\n",
       "      <td>0</td>\n",
       "      <td>0</td>\n",
       "      <td>0</td>\n",
       "      <td>0</td>\n",
       "      <td>0</td>\n",
       "      <td>0</td>\n",
       "      <td>0</td>\n",
       "      <td>0</td>\n",
       "    </tr>\n",
       "    <tr>\n",
       "      <th>2</th>\n",
       "      <td>0</td>\n",
       "      <td>0</td>\n",
       "      <td>0</td>\n",
       "      <td>0</td>\n",
       "      <td>0</td>\n",
       "      <td>0</td>\n",
       "      <td>0</td>\n",
       "      <td>1</td>\n",
       "      <td>0</td>\n",
       "      <td>0</td>\n",
       "      <td>...</td>\n",
       "      <td>0</td>\n",
       "      <td>0</td>\n",
       "      <td>0</td>\n",
       "      <td>0</td>\n",
       "      <td>0</td>\n",
       "      <td>0</td>\n",
       "      <td>0</td>\n",
       "      <td>0</td>\n",
       "      <td>0</td>\n",
       "      <td>0</td>\n",
       "    </tr>\n",
       "    <tr>\n",
       "      <th>3</th>\n",
       "      <td>0</td>\n",
       "      <td>0</td>\n",
       "      <td>0</td>\n",
       "      <td>0</td>\n",
       "      <td>0</td>\n",
       "      <td>0</td>\n",
       "      <td>0</td>\n",
       "      <td>1</td>\n",
       "      <td>0</td>\n",
       "      <td>0</td>\n",
       "      <td>...</td>\n",
       "      <td>0</td>\n",
       "      <td>0</td>\n",
       "      <td>0</td>\n",
       "      <td>0</td>\n",
       "      <td>0</td>\n",
       "      <td>0</td>\n",
       "      <td>0</td>\n",
       "      <td>0</td>\n",
       "      <td>0</td>\n",
       "      <td>0</td>\n",
       "    </tr>\n",
       "    <tr>\n",
       "      <th>4</th>\n",
       "      <td>0</td>\n",
       "      <td>0</td>\n",
       "      <td>0</td>\n",
       "      <td>0</td>\n",
       "      <td>0</td>\n",
       "      <td>0</td>\n",
       "      <td>0</td>\n",
       "      <td>0</td>\n",
       "      <td>0</td>\n",
       "      <td>0</td>\n",
       "      <td>...</td>\n",
       "      <td>0</td>\n",
       "      <td>0</td>\n",
       "      <td>0</td>\n",
       "      <td>0</td>\n",
       "      <td>0</td>\n",
       "      <td>0</td>\n",
       "      <td>0</td>\n",
       "      <td>0</td>\n",
       "      <td>0</td>\n",
       "      <td>0</td>\n",
       "    </tr>\n",
       "    <tr>\n",
       "      <th>...</th>\n",
       "      <td>...</td>\n",
       "      <td>...</td>\n",
       "      <td>...</td>\n",
       "      <td>...</td>\n",
       "      <td>...</td>\n",
       "      <td>...</td>\n",
       "      <td>...</td>\n",
       "      <td>...</td>\n",
       "      <td>...</td>\n",
       "      <td>...</td>\n",
       "      <td>...</td>\n",
       "      <td>...</td>\n",
       "      <td>...</td>\n",
       "      <td>...</td>\n",
       "      <td>...</td>\n",
       "      <td>...</td>\n",
       "      <td>...</td>\n",
       "      <td>...</td>\n",
       "      <td>...</td>\n",
       "      <td>...</td>\n",
       "      <td>...</td>\n",
       "    </tr>\n",
       "    <tr>\n",
       "      <th>5505</th>\n",
       "      <td>0</td>\n",
       "      <td>0</td>\n",
       "      <td>1</td>\n",
       "      <td>0</td>\n",
       "      <td>0</td>\n",
       "      <td>0</td>\n",
       "      <td>0</td>\n",
       "      <td>0</td>\n",
       "      <td>0</td>\n",
       "      <td>0</td>\n",
       "      <td>...</td>\n",
       "      <td>1</td>\n",
       "      <td>0</td>\n",
       "      <td>0</td>\n",
       "      <td>0</td>\n",
       "      <td>0</td>\n",
       "      <td>0</td>\n",
       "      <td>0</td>\n",
       "      <td>0</td>\n",
       "      <td>0</td>\n",
       "      <td>0</td>\n",
       "    </tr>\n",
       "    <tr>\n",
       "      <th>5506</th>\n",
       "      <td>0</td>\n",
       "      <td>0</td>\n",
       "      <td>0</td>\n",
       "      <td>0</td>\n",
       "      <td>0</td>\n",
       "      <td>0</td>\n",
       "      <td>0</td>\n",
       "      <td>0</td>\n",
       "      <td>0</td>\n",
       "      <td>0</td>\n",
       "      <td>...</td>\n",
       "      <td>0</td>\n",
       "      <td>0</td>\n",
       "      <td>0</td>\n",
       "      <td>0</td>\n",
       "      <td>0</td>\n",
       "      <td>0</td>\n",
       "      <td>0</td>\n",
       "      <td>0</td>\n",
       "      <td>0</td>\n",
       "      <td>0</td>\n",
       "    </tr>\n",
       "    <tr>\n",
       "      <th>5507</th>\n",
       "      <td>0</td>\n",
       "      <td>0</td>\n",
       "      <td>0</td>\n",
       "      <td>0</td>\n",
       "      <td>0</td>\n",
       "      <td>0</td>\n",
       "      <td>0</td>\n",
       "      <td>0</td>\n",
       "      <td>0</td>\n",
       "      <td>0</td>\n",
       "      <td>...</td>\n",
       "      <td>0</td>\n",
       "      <td>0</td>\n",
       "      <td>0</td>\n",
       "      <td>0</td>\n",
       "      <td>0</td>\n",
       "      <td>0</td>\n",
       "      <td>0</td>\n",
       "      <td>0</td>\n",
       "      <td>0</td>\n",
       "      <td>0</td>\n",
       "    </tr>\n",
       "    <tr>\n",
       "      <th>5508</th>\n",
       "      <td>0</td>\n",
       "      <td>0</td>\n",
       "      <td>0</td>\n",
       "      <td>0</td>\n",
       "      <td>0</td>\n",
       "      <td>0</td>\n",
       "      <td>0</td>\n",
       "      <td>0</td>\n",
       "      <td>0</td>\n",
       "      <td>0</td>\n",
       "      <td>...</td>\n",
       "      <td>1</td>\n",
       "      <td>0</td>\n",
       "      <td>0</td>\n",
       "      <td>0</td>\n",
       "      <td>0</td>\n",
       "      <td>0</td>\n",
       "      <td>0</td>\n",
       "      <td>0</td>\n",
       "      <td>0</td>\n",
       "      <td>0</td>\n",
       "    </tr>\n",
       "    <tr>\n",
       "      <th>5509</th>\n",
       "      <td>0</td>\n",
       "      <td>0</td>\n",
       "      <td>0</td>\n",
       "      <td>0</td>\n",
       "      <td>0</td>\n",
       "      <td>0</td>\n",
       "      <td>0</td>\n",
       "      <td>0</td>\n",
       "      <td>0</td>\n",
       "      <td>0</td>\n",
       "      <td>...</td>\n",
       "      <td>0</td>\n",
       "      <td>0</td>\n",
       "      <td>0</td>\n",
       "      <td>0</td>\n",
       "      <td>0</td>\n",
       "      <td>0</td>\n",
       "      <td>0</td>\n",
       "      <td>0</td>\n",
       "      <td>0</td>\n",
       "      <td>0</td>\n",
       "    </tr>\n",
       "  </tbody>\n",
       "</table>\n",
       "<p>5510 rows × 85 columns</p>\n",
       "</div>"
      ],
      "text/plain": [
       "      Hearty & Seasonal  Mineral water  Toast  Bakewell  Bread Pudding  Cake  \\\n",
       "0                     0              0      0         0              0     0   \n",
       "1                     0              0      0         0              0     0   \n",
       "2                     0              0      0         0              0     0   \n",
       "3                     0              0      0         0              0     0   \n",
       "4                     0              0      0         0              0     0   \n",
       "...                 ...            ...    ...       ...            ...   ...   \n",
       "5505                  0              0      1         0              0     0   \n",
       "5506                  0              0      0         0              0     0   \n",
       "5507                  0              0      0         0              0     0   \n",
       "5508                  0              0      0         0              0     0   \n",
       "5509                  0              0      0         0              0     0   \n",
       "\n",
       "      Drinking chocolate spoons   Medialuna  Honey  Bowl Nic Pitt  ...  \\\n",
       "0                              0          0      0              0  ...   \n",
       "1                              0          0      0              0  ...   \n",
       "2                              0          1      0              0  ...   \n",
       "3                              0          1      0              0  ...   \n",
       "4                              0          0      0              0  ...   \n",
       "...                          ...        ...    ...            ...  ...   \n",
       "5505                           0          0      0              0  ...   \n",
       "5506                           0          0      0              0  ...   \n",
       "5507                           0          0      0              0  ...   \n",
       "5508                           0          0      0              0  ...   \n",
       "5509                           0          0      0              0  ...   \n",
       "\n",
       "      Tacos/Fajita  The Nomad  Dulce de Leche  Valentine's card  \\\n",
       "0                0          0               0                 0   \n",
       "1                0          0               0                 0   \n",
       "2                0          0               0                 0   \n",
       "3                0          0               0                 0   \n",
       "4                0          0               0                 0   \n",
       "...            ...        ...             ...               ...   \n",
       "5505             1          0               0                 0   \n",
       "5506             0          0               0                 0   \n",
       "5507             0          0               0                 0   \n",
       "5508             1          0               0                 0   \n",
       "5509             0          0               0                 0   \n",
       "\n",
       "      Pick and Mix Bowls  Ella's Kitchen Pouches  Panatone  Muesli  Postcard  \\\n",
       "0                      0                       0         0       0         0   \n",
       "1                      0                       0         0       0         0   \n",
       "2                      0                       0         0       0         0   \n",
       "3                      0                       0         0       0         0   \n",
       "4                      0                       0         0       0         0   \n",
       "...                  ...                     ...       ...     ...       ...   \n",
       "5505                   0                       0         0       0         0   \n",
       "5506                   0                       0         0       0         0   \n",
       "5507                   0                       0         0       0         0   \n",
       "5508                   0                       0         0       0         0   \n",
       "5509                   0                       0         0       0         0   \n",
       "\n",
       "      Bare Popcorn  \n",
       "0                0  \n",
       "1                0  \n",
       "2                0  \n",
       "3                0  \n",
       "4                0  \n",
       "...            ...  \n",
       "5505             0  \n",
       "5506             0  \n",
       "5507             0  \n",
       "5508             0  \n",
       "5509             0  \n",
       "\n",
       "[5510 rows x 85 columns]"
      ]
     },
     "execution_count": 71,
     "metadata": {},
     "output_type": "execute_result"
    }
   ],
   "source": [
    " \n",
    "unique_items = set(item for transaction in transactions for item in transaction)\n",
    "\n",
    "# Initialize an empty dictionary to store the data\n",
    "data_dict = {item: [] for item in unique_items}\n",
    "\n",
    "# Iterate through the transactions and populate the dictionary\n",
    "for transaction in transactions:\n",
    "    for item in unique_items:\n",
    "        data_dict[item].append(int(item in transaction))\n",
    "\n",
    "# Create a DataFrame from the dictionary\n",
    "df = pd.DataFrame(data_dict)\n",
    "\n",
    "# Display the resulting binary DataFrame\n",
    "df\n"
   ]
  },
  {
   "cell_type": "code",
   "execution_count": null,
   "id": "0ce8fd14",
   "metadata": {},
   "outputs": [],
   "source": []
  },
  {
   "cell_type": "code",
   "execution_count": 74,
   "id": "b7508a1d",
   "metadata": {},
   "outputs": [
    {
     "name": "stderr",
     "output_type": "stream",
     "text": [
      "C:\\Users\\dasni\\anaconda3\\Lib\\site-packages\\mlxtend\\frequent_patterns\\fpcommon.py:110: DeprecationWarning: DataFrames with non-bool types result in worse computationalperformance and their support might be discontinued in the future.Please use a DataFrame with bool type\n",
      "  warnings.warn(\n"
     ]
    },
    {
     "data": {
      "text/html": [
       "<div>\n",
       "<style scoped>\n",
       "    .dataframe tbody tr th:only-of-type {\n",
       "        vertical-align: middle;\n",
       "    }\n",
       "\n",
       "    .dataframe tbody tr th {\n",
       "        vertical-align: top;\n",
       "    }\n",
       "\n",
       "    .dataframe thead th {\n",
       "        text-align: right;\n",
       "    }\n",
       "</style>\n",
       "<table border=\"1\" class=\"dataframe\">\n",
       "  <thead>\n",
       "    <tr style=\"text-align: right;\">\n",
       "      <th></th>\n",
       "      <th>support</th>\n",
       "      <th>itemsets</th>\n",
       "      <th>length</th>\n",
       "    </tr>\n",
       "  </thead>\n",
       "  <tbody>\n",
       "    <tr>\n",
       "      <th>0</th>\n",
       "      <td>60.49</td>\n",
       "      <td>(Coffee)</td>\n",
       "      <td>1</td>\n",
       "    </tr>\n",
       "    <tr>\n",
       "      <th>1</th>\n",
       "      <td>34.52</td>\n",
       "      <td>(Bread)</td>\n",
       "      <td>1</td>\n",
       "    </tr>\n",
       "    <tr>\n",
       "      <th>2</th>\n",
       "      <td>20.76</td>\n",
       "      <td>(Tea)</td>\n",
       "      <td>1</td>\n",
       "    </tr>\n",
       "    <tr>\n",
       "      <th>3</th>\n",
       "      <td>16.04</td>\n",
       "      <td>(Cake)</td>\n",
       "      <td>1</td>\n",
       "    </tr>\n",
       "    <tr>\n",
       "      <th>4</th>\n",
       "      <td>15.46</td>\n",
       "      <td>(Coffee, Bread)</td>\n",
       "      <td>2</td>\n",
       "    </tr>\n",
       "  </tbody>\n",
       "</table>\n",
       "</div>"
      ],
      "text/plain": [
       "   support         itemsets  length\n",
       "0    60.49         (Coffee)       1\n",
       "1    34.52          (Bread)       1\n",
       "2    20.76            (Tea)       1\n",
       "3    16.04           (Cake)       1\n",
       "4    15.46  (Coffee, Bread)       2"
      ]
     },
     "execution_count": 74,
     "metadata": {},
     "output_type": "execute_result"
    }
   ],
   "source": [
    "from mlxtend.frequent_patterns import apriori\n",
    "\n",
    "frequent_itemsets = apriori(df, min_support=0.0001, use_colnames=True)\n",
    "frequent_itemsets['length'] = frequent_itemsets['itemsets'].apply(lambda x: len(x))\n",
    "frequent_itemsets[\"support\"] = frequent_itemsets[\"support\"].apply(lambda x: round(x*100, 2))\n",
    "all_freq = frequent_itemsets.sort_values(by=\"support\", ascending=False).reset_index().drop(\"index\", axis=1)\n",
    "all_freq.head()"
   ]
  },
  {
   "cell_type": "markdown",
   "id": "3091c067",
   "metadata": {},
   "source": [
    "min_support parameter is determined as the very tiny number such as 0.0001\n",
    "The aim was demonstrating the longer pairs because longer pairs have much lower support value\n",
    "\n",
    "\n",
    "Looking for the most frequent items with length of 2 pairs"
   ]
  },
  {
   "cell_type": "code",
   "execution_count": 75,
   "id": "c161fa4e",
   "metadata": {},
   "outputs": [
    {
     "data": {
      "text/html": [
       "<div>\n",
       "<style scoped>\n",
       "    .dataframe tbody tr th:only-of-type {\n",
       "        vertical-align: middle;\n",
       "    }\n",
       "\n",
       "    .dataframe tbody tr th {\n",
       "        vertical-align: top;\n",
       "    }\n",
       "\n",
       "    .dataframe thead th {\n",
       "        text-align: right;\n",
       "    }\n",
       "</style>\n",
       "<table border=\"1\" class=\"dataframe\">\n",
       "  <thead>\n",
       "    <tr style=\"text-align: right;\">\n",
       "      <th></th>\n",
       "      <th>support</th>\n",
       "      <th>itemsets</th>\n",
       "      <th>length</th>\n",
       "    </tr>\n",
       "  </thead>\n",
       "  <tbody>\n",
       "    <tr>\n",
       "      <th>0</th>\n",
       "      <td>15.46</td>\n",
       "      <td>(Coffee, Bread)</td>\n",
       "      <td>2</td>\n",
       "    </tr>\n",
       "    <tr>\n",
       "      <th>1</th>\n",
       "      <td>9.40</td>\n",
       "      <td>(Coffee, Cake)</td>\n",
       "      <td>2</td>\n",
       "    </tr>\n",
       "    <tr>\n",
       "      <th>2</th>\n",
       "      <td>8.55</td>\n",
       "      <td>(Coffee, Tea)</td>\n",
       "      <td>2</td>\n",
       "    </tr>\n",
       "    <tr>\n",
       "      <th>3</th>\n",
       "      <td>8.17</td>\n",
       "      <td>(Coffee, Pastry)</td>\n",
       "      <td>2</td>\n",
       "    </tr>\n",
       "    <tr>\n",
       "      <th>4</th>\n",
       "      <td>6.57</td>\n",
       "      <td>(Coffee, Sandwich)</td>\n",
       "      <td>2</td>\n",
       "    </tr>\n",
       "  </tbody>\n",
       "</table>\n",
       "</div>"
      ],
      "text/plain": [
       "   support            itemsets  length\n",
       "0    15.46     (Coffee, Bread)       2\n",
       "1     9.40      (Coffee, Cake)       2\n",
       "2     8.55       (Coffee, Tea)       2\n",
       "3     8.17    (Coffee, Pastry)       2\n",
       "4     6.57  (Coffee, Sandwich)       2"
      ]
     },
     "execution_count": 75,
     "metadata": {},
     "output_type": "execute_result"
    }
   ],
   "source": [
    "freq_len_2 = frequent_itemsets[(frequent_itemsets['length'] == 2)].sort_values(by=\"support\", ascending=False).reset_index().drop(\"index\", axis=1)\n",
    "freq_len_2.head()"
   ]
  },
  {
   "cell_type": "markdown",
   "id": "3fa0aa67",
   "metadata": {},
   "source": [
    "Recall that the output of the implemented apriori algorithm for (Coffee, Bread) was 15.46, for (Cake, Coffee) was 9.4\n",
    "As you can see, the actual apriori gives the same scores\n",
    "So the implementation is successfull 🥳\n",
    "\n",
    "\n",
    "\n",
    "Looking for the most frequent items with length of 3 pairs"
   ]
  },
  {
   "cell_type": "code",
   "execution_count": 76,
   "id": "f3239a57",
   "metadata": {},
   "outputs": [
    {
     "data": {
      "text/html": [
       "<div>\n",
       "<style scoped>\n",
       "    .dataframe tbody tr th:only-of-type {\n",
       "        vertical-align: middle;\n",
       "    }\n",
       "\n",
       "    .dataframe tbody tr th {\n",
       "        vertical-align: top;\n",
       "    }\n",
       "\n",
       "    .dataframe thead th {\n",
       "        text-align: right;\n",
       "    }\n",
       "</style>\n",
       "<table border=\"1\" class=\"dataframe\">\n",
       "  <thead>\n",
       "    <tr style=\"text-align: right;\">\n",
       "      <th></th>\n",
       "      <th>support</th>\n",
       "      <th>itemsets</th>\n",
       "      <th>length</th>\n",
       "    </tr>\n",
       "  </thead>\n",
       "  <tbody>\n",
       "    <tr>\n",
       "      <th>0</th>\n",
       "      <td>1.92</td>\n",
       "      <td>(Coffee, Bread, Pastry)</td>\n",
       "      <td>3</td>\n",
       "    </tr>\n",
       "    <tr>\n",
       "      <th>1</th>\n",
       "      <td>1.72</td>\n",
       "      <td>(Coffee, Bread, Cake)</td>\n",
       "      <td>3</td>\n",
       "    </tr>\n",
       "    <tr>\n",
       "      <th>2</th>\n",
       "      <td>1.72</td>\n",
       "      <td>(Coffee, Tea, Cake)</td>\n",
       "      <td>3</td>\n",
       "    </tr>\n",
       "    <tr>\n",
       "      <th>3</th>\n",
       "      <td>1.27</td>\n",
       "      <td>(Coffee, Tea, Bread)</td>\n",
       "      <td>3</td>\n",
       "    </tr>\n",
       "    <tr>\n",
       "      <th>4</th>\n",
       "      <td>1.23</td>\n",
       "      <td>(Coffee, Bread, Sandwich)</td>\n",
       "      <td>3</td>\n",
       "    </tr>\n",
       "  </tbody>\n",
       "</table>\n",
       "</div>"
      ],
      "text/plain": [
       "   support                   itemsets  length\n",
       "0     1.92    (Coffee, Bread, Pastry)       3\n",
       "1     1.72      (Coffee, Bread, Cake)       3\n",
       "2     1.72        (Coffee, Tea, Cake)       3\n",
       "3     1.27       (Coffee, Tea, Bread)       3\n",
       "4     1.23  (Coffee, Bread, Sandwich)       3"
      ]
     },
     "execution_count": 76,
     "metadata": {},
     "output_type": "execute_result"
    }
   ],
   "source": [
    "freq_len_3 = frequent_itemsets[(frequent_itemsets['length'] == 3)].sort_values(by=\"support\", ascending=False).reset_index().drop(\"index\", axis=1)\n",
    "freq_len_3.head()"
   ]
  },
  {
   "cell_type": "markdown",
   "id": "521ade35",
   "metadata": {},
   "source": [
    "The most frequent items bought together with lenght of 3 is (Pastry, Coffee, Bread)\n",
    "Almost 2% of the transactions involves these 3\n",
    "\n",
    "\n",
    "\n",
    "\n",
    "\n",
    "\n",
    "\n",
    "Looking for the most frequent items with length of 4 pair"
   ]
  },
  {
   "cell_type": "code",
   "execution_count": 77,
   "id": "9710d302",
   "metadata": {},
   "outputs": [
    {
     "data": {
      "text/html": [
       "<div>\n",
       "<style scoped>\n",
       "    .dataframe tbody tr th:only-of-type {\n",
       "        vertical-align: middle;\n",
       "    }\n",
       "\n",
       "    .dataframe tbody tr th {\n",
       "        vertical-align: top;\n",
       "    }\n",
       "\n",
       "    .dataframe thead th {\n",
       "        text-align: right;\n",
       "    }\n",
       "</style>\n",
       "<table border=\"1\" class=\"dataframe\">\n",
       "  <thead>\n",
       "    <tr style=\"text-align: right;\">\n",
       "      <th></th>\n",
       "      <th>support</th>\n",
       "      <th>itemsets</th>\n",
       "      <th>length</th>\n",
       "    </tr>\n",
       "  </thead>\n",
       "  <tbody>\n",
       "    <tr>\n",
       "      <th>0</th>\n",
       "      <td>0.24</td>\n",
       "      <td>(Coffee, Tea, Bread, Cake)</td>\n",
       "      <td>4</td>\n",
       "    </tr>\n",
       "    <tr>\n",
       "      <th>1</th>\n",
       "      <td>0.20</td>\n",
       "      <td>(Coffee, Medialuna, Bread, Pastry)</td>\n",
       "      <td>4</td>\n",
       "    </tr>\n",
       "    <tr>\n",
       "      <th>2</th>\n",
       "      <td>0.18</td>\n",
       "      <td>(Coffee, Tea, Sandwich, Cake)</td>\n",
       "      <td>4</td>\n",
       "    </tr>\n",
       "    <tr>\n",
       "      <th>3</th>\n",
       "      <td>0.18</td>\n",
       "      <td>(Coffee, Bread, Pastry, Hot chocolate)</td>\n",
       "      <td>4</td>\n",
       "    </tr>\n",
       "    <tr>\n",
       "      <th>4</th>\n",
       "      <td>0.16</td>\n",
       "      <td>(Coffee, Bread, Hot chocolate, Cake)</td>\n",
       "      <td>4</td>\n",
       "    </tr>\n",
       "  </tbody>\n",
       "</table>\n",
       "</div>"
      ],
      "text/plain": [
       "   support                                itemsets  length\n",
       "0     0.24              (Coffee, Tea, Bread, Cake)       4\n",
       "1     0.20      (Coffee, Medialuna, Bread, Pastry)       4\n",
       "2     0.18           (Coffee, Tea, Sandwich, Cake)       4\n",
       "3     0.18  (Coffee, Bread, Pastry, Hot chocolate)       4\n",
       "4     0.16    (Coffee, Bread, Hot chocolate, Cake)       4"
      ]
     },
     "execution_count": 77,
     "metadata": {},
     "output_type": "execute_result"
    }
   ],
   "source": [
    "freq_len_4 = frequent_itemsets[(frequent_itemsets['length'] == 4)].sort_values(by=\"support\", ascending=False).reset_index().drop(\"index\", axis=1)\n",
    "freq_len_4.head()"
   ]
  },
  {
   "cell_type": "markdown",
   "id": "47badc7b",
   "metadata": {},
   "source": [
    "The most frequent items bought together with lenght of 4 is (Cake, Tea, Coffee, Bread)\n",
    "0.24% of the transactions involves these 4\n",
    "\n",
    "\n",
    "\n",
    "\n",
    "\n",
    "\n",
    "Looking for the most frequent items with length of 5 pairs"
   ]
  },
  {
   "cell_type": "code",
   "execution_count": 78,
   "id": "ddd801cd",
   "metadata": {},
   "outputs": [
    {
     "data": {
      "text/html": [
       "<div>\n",
       "<style scoped>\n",
       "    .dataframe tbody tr th:only-of-type {\n",
       "        vertical-align: middle;\n",
       "    }\n",
       "\n",
       "    .dataframe tbody tr th {\n",
       "        vertical-align: top;\n",
       "    }\n",
       "\n",
       "    .dataframe thead th {\n",
       "        text-align: right;\n",
       "    }\n",
       "</style>\n",
       "<table border=\"1\" class=\"dataframe\">\n",
       "  <thead>\n",
       "    <tr style=\"text-align: right;\">\n",
       "      <th></th>\n",
       "      <th>support</th>\n",
       "      <th>itemsets</th>\n",
       "      <th>length</th>\n",
       "    </tr>\n",
       "  </thead>\n",
       "  <tbody>\n",
       "    <tr>\n",
       "      <th>0</th>\n",
       "      <td>0.07</td>\n",
       "      <td>(Coffee, Soup, Tea, Sandwich, Cake)</td>\n",
       "      <td>5</td>\n",
       "    </tr>\n",
       "    <tr>\n",
       "      <th>1</th>\n",
       "      <td>0.05</td>\n",
       "      <td>(Coffee, Tea, Sandwich, Cake, Cookies)</td>\n",
       "      <td>5</td>\n",
       "    </tr>\n",
       "    <tr>\n",
       "      <th>2</th>\n",
       "      <td>0.05</td>\n",
       "      <td>(Coffee, Alfajores, Tea, Juice, Cookies)</td>\n",
       "      <td>5</td>\n",
       "    </tr>\n",
       "    <tr>\n",
       "      <th>3</th>\n",
       "      <td>0.05</td>\n",
       "      <td>(Coffee, Medialuna, Tea, Sandwich, Bread)</td>\n",
       "      <td>5</td>\n",
       "    </tr>\n",
       "    <tr>\n",
       "      <th>4</th>\n",
       "      <td>0.05</td>\n",
       "      <td>(Coffee, Tea, Pastry, Bread, Cake)</td>\n",
       "      <td>5</td>\n",
       "    </tr>\n",
       "  </tbody>\n",
       "</table>\n",
       "</div>"
      ],
      "text/plain": [
       "   support                                   itemsets  length\n",
       "0     0.07        (Coffee, Soup, Tea, Sandwich, Cake)       5\n",
       "1     0.05     (Coffee, Tea, Sandwich, Cake, Cookies)       5\n",
       "2     0.05   (Coffee, Alfajores, Tea, Juice, Cookies)       5\n",
       "3     0.05  (Coffee, Medialuna, Tea, Sandwich, Bread)       5\n",
       "4     0.05         (Coffee, Tea, Pastry, Bread, Cake)       5"
      ]
     },
     "execution_count": 78,
     "metadata": {},
     "output_type": "execute_result"
    }
   ],
   "source": [
    "freq_len_5 = frequent_itemsets[(frequent_itemsets['length'] == 5)].sort_values(by=\"support\", ascending=False).reset_index().drop(\"index\", axis=1)\n",
    "freq_len_5.head()"
   ]
  },
  {
   "cell_type": "markdown",
   "id": "4a1f4cfe",
   "metadata": {},
   "source": [
    "The most frequent items bought together with lenght of 5 is (Cake, Soup, Sandwich, Tea, Coffee)\n",
    "0.07% of the transactions involves these 5\n",
    "Looking for the most frequent items with length of 6 pairs"
   ]
  },
  {
   "cell_type": "code",
   "execution_count": 79,
   "id": "37bbc65e",
   "metadata": {},
   "outputs": [
    {
     "data": {
      "text/html": [
       "<div>\n",
       "<style scoped>\n",
       "    .dataframe tbody tr th:only-of-type {\n",
       "        vertical-align: middle;\n",
       "    }\n",
       "\n",
       "    .dataframe tbody tr th {\n",
       "        vertical-align: top;\n",
       "    }\n",
       "\n",
       "    .dataframe thead th {\n",
       "        text-align: right;\n",
       "    }\n",
       "</style>\n",
       "<table border=\"1\" class=\"dataframe\">\n",
       "  <thead>\n",
       "    <tr style=\"text-align: right;\">\n",
       "      <th></th>\n",
       "      <th>support</th>\n",
       "      <th>itemsets</th>\n",
       "      <th>length</th>\n",
       "    </tr>\n",
       "  </thead>\n",
       "  <tbody>\n",
       "    <tr>\n",
       "      <th>0</th>\n",
       "      <td>0.04</td>\n",
       "      <td>(Coffee, Soup, Tea, Sandwich, Cake, Cookies)</td>\n",
       "      <td>6</td>\n",
       "    </tr>\n",
       "    <tr>\n",
       "      <th>1</th>\n",
       "      <td>0.02</td>\n",
       "      <td>(Coffee, Coke, Crisps, Sandwich, Smoothies, Br...</td>\n",
       "      <td>6</td>\n",
       "    </tr>\n",
       "    <tr>\n",
       "      <th>2</th>\n",
       "      <td>0.02</td>\n",
       "      <td>(Coke, Medialuna, Sandwich, Chicken Stew, Tiff...</td>\n",
       "      <td>6</td>\n",
       "    </tr>\n",
       "    <tr>\n",
       "      <th>3</th>\n",
       "      <td>0.02</td>\n",
       "      <td>(Coffee, Coke, Medialuna, Sandwich, Tiffin, Br...</td>\n",
       "      <td>6</td>\n",
       "    </tr>\n",
       "    <tr>\n",
       "      <th>4</th>\n",
       "      <td>0.02</td>\n",
       "      <td>(Coffee, Coke, Medialuna, Sandwich, Chicken St...</td>\n",
       "      <td>6</td>\n",
       "    </tr>\n",
       "  </tbody>\n",
       "</table>\n",
       "</div>"
      ],
      "text/plain": [
       "   support                                           itemsets  length\n",
       "0     0.04       (Coffee, Soup, Tea, Sandwich, Cake, Cookies)       6\n",
       "1     0.02  (Coffee, Coke, Crisps, Sandwich, Smoothies, Br...       6\n",
       "2     0.02  (Coke, Medialuna, Sandwich, Chicken Stew, Tiff...       6\n",
       "3     0.02  (Coffee, Coke, Medialuna, Sandwich, Tiffin, Br...       6\n",
       "4     0.02  (Coffee, Coke, Medialuna, Sandwich, Chicken St...       6"
      ]
     },
     "execution_count": 79,
     "metadata": {},
     "output_type": "execute_result"
    }
   ],
   "source": [
    "freq_len_6 = frequent_itemsets[(frequent_itemsets['length'] == 6)].sort_values(by=\"support\", ascending=False).reset_index().drop(\"index\", axis=1)\n",
    "freq_len_6.head()"
   ]
  },
  {
   "cell_type": "markdown",
   "id": "bb6230ad",
   "metadata": {},
   "source": [
    "The most frequent items bought together with lenght of 6 is (Cake, Soup, Cookies, Sandwich, Tea, Coffee)\n",
    "0.04% of the transactions involves these 6\n",
    "At this point, we realized that the remaining sets have the support value as 0.02\n",
    "So we thought this value is the lowest possible value\n",
    "To learn it, we divided 100 to the number of transactions"
   ]
  },
  {
   "cell_type": "code",
   "execution_count": 80,
   "id": "9fe240e6",
   "metadata": {},
   "outputs": [
    {
     "data": {
      "text/plain": [
       "0.02"
      ]
     },
     "execution_count": 80,
     "metadata": {},
     "output_type": "execute_result"
    }
   ],
   "source": [
    "round(100 / len(transactions), 2)"
   ]
  },
  {
   "cell_type": "markdown",
   "id": "830b143d",
   "metadata": {},
   "source": [
    "0.02 is the lowest support value and this indicates that the sets with support value of 0.02 are involved only once in all of the transactions\n",
    "So they cannot be considered as the frequent pattern\n",
    "Looking for the confidence scores of the items"
   ]
  },
  {
   "cell_type": "code",
   "execution_count": 81,
   "id": "9a75289d",
   "metadata": {},
   "outputs": [],
   "source": [
    "def confidence_on_items(x, y, min_conf=0):\n",
    "    x1 = [t for t in transactions if x in t]\n",
    "    y1 = [t for t in transactions if y in t]\n",
    "    x_U_y = [common for common in x1 if y in common]\n",
    "    conf_x_y = round(len(x_U_y)/len(x1)*100,2)\n",
    "    conf_y_x = round(len(x_U_y)/len(y1)*100,2)\n",
    "    if conf_x_y >= min_conf:\n",
    "        print(f\"Confidence of {x} on {y} is {conf_x_y}\")\n",
    "    if conf_y_x >= min_conf:\n",
    "        print(f\"Confidence of {y} on {x} is {conf_y_x}\")"
   ]
  },
  {
   "cell_type": "markdown",
   "id": "56ddd8b1",
   "metadata": {},
   "source": [
    "This function takes two arguments as two items and one optional argument as minimum confidence\n",
    "It calculates and prints the confidence scores of these two items relative to each other\n",
    "If the minimum confidence score is specified, then the confidence scores higher than this threshold is printed, otherwise all of the scores will be printed\n",
    "Confidence of \"x\" on \"y\" means, \n",
    "\n",
    "\n",
    "\n",
    "The conditional probability that a transaction containing \"x\" also contains \"y\""
   ]
  },
  {
   "cell_type": "code",
   "execution_count": 82,
   "id": "c52e5ea4",
   "metadata": {},
   "outputs": [
    {
     "name": "stdout",
     "output_type": "stream",
     "text": [
      "Confidence of Bread on Coffee is 44.79\n",
      "Confidence of Coffee on Bread is 25.56\n"
     ]
    }
   ],
   "source": [
    "confidence_on_items(\"Bread\", \"Coffee\")"
   ]
  },
  {
   "cell_type": "markdown",
   "id": "5ccbcb13",
   "metadata": {},
   "source": [
    "This means that, the percentage of customers who bought bread are also bought coffee is 44.79%\n",
    "Samely the percentage of customers who bought coffee are also bought bread is 25.56%"
   ]
  },
  {
   "cell_type": "code",
   "execution_count": 83,
   "id": "42d14738",
   "metadata": {},
   "outputs": [
    {
     "name": "stdout",
     "output_type": "stream",
     "text": [
      "Confidence of Bread on Coffee is 44.79\n"
     ]
    }
   ],
   "source": [
    "confidence_on_items(\"Bread\", \"Coffee\", 40)"
   ]
  },
  {
   "cell_type": "markdown",
   "id": "7584f1ed",
   "metadata": {},
   "source": [
    "If we set the threshold for the minimum confidence, then some scores are not shown\n",
    "Calculating the confidence scores on sets"
   ]
  },
  {
   "cell_type": "markdown",
   "id": "12843933",
   "metadata": {},
   "source": [
    "def confidence_on_sets(x, y, min_conf=0):\n",
    "    if type(x) == str:\n",
    "        x1 = [t for t in transactions if x in t]\n",
    "    else:\n",
    "        x1 = [t for t in transactions if all(s in t for s in x)]\n",
    "    if type(y) == str:\n",
    "        y1 = [t for t in transactions if y in t]\n",
    "    else:\n",
    "        y1 = [t for t in transactions if all(s in t for s in y)]\n",
    "    \n",
    "    if type(x) == str and type(y) == list:\n",
    "        inp_list = y.copy()\n",
    "        y.append(x)\n",
    "        union = [t for t in transactions if all(s in t for s in y)]\n",
    "        conf_x_y = round(len(union)/len(x1)*100,2)\n",
    "        conf_y_x = round(len(union)/len(y1)*100,2)\n",
    "        if conf_x_y >= min_conf:\n",
    "            print(f\"Confidence of {x} on {inp_list} is {conf_x_y}\")\n",
    "        if conf_y_x >= min_conf:\n",
    "            print(f\"Confidence of {inp_list} on {x} is {conf_y_x}\")\n",
    "    elif type(x) == list and type(y) == str:\n",
    "        inp_list = x.copy()\n",
    "        x.append(y)\n",
    "        union = [t for t in transactions if all(s in t for s in x)]\n",
    "        conf_x_y = round(len(union)/len(x1)*100,2)\n",
    "        conf_y_x = round(len(union)/len(y1)*100,2)\n",
    "        if conf_x_y >= min_conf:\n",
    "            print(f\"Confidence of {x} on {inp_list} is {conf_x_y}\")\n",
    "        if conf_y_x >= min_conf:\n",
    "            print(f\"Confidence of {inp_list} on {x} is {conf_y_x}\")\n",
    "    elif type(x) == list and type(y) == list:\n",
    "        uni_list = x+y\n",
    "        union = [t for t in transactions if all(s in t for s in uni_list)]\n",
    "        conf_x_y = round(len(union)/len(x1)*100,2)\n",
    "        conf_y_x = round(len(union)/len(y1)*100,2)\n",
    "        if conf_x_y >= min_conf:\n",
    "            print(f\"Confidence of {x} on {y} is {conf_x_y}\")\n",
    "        if conf_y_x >= min_conf:\n",
    "            print(f\"Confidence of {y} on {x} is {conf_y_x}\")"
   ]
  },
  {
   "cell_type": "markdown",
   "id": "9479cc4e",
   "metadata": {},
   "source": [
    "This long function takes two arguments as two items or sets and one optional argument as minimum support\n",
    "It check the inputs if they are a list of items or only a single item\n",
    "By looking their types, confidence score calculations is processed accordingly\n",
    "\n",
    "\n",
    "\n",
    "\n",
    "\n",
    "\n",
    "Looking for the one example"
   ]
  },
  {
   "cell_type": "code",
   "execution_count": 86,
   "id": "d8916383",
   "metadata": {},
   "outputs": [],
   "source": [
    "def confidence_on_sets(x, y, min_conf=0):\n",
    "    if type(x) == str:\n",
    "        x1 = [t for t in transactions if x in t]\n",
    "    else:\n",
    "        x1 = [t for t in transactions if all(s in t for s in x)]\n",
    "    if type(y) == str:\n",
    "        y1 = [t for t in transactions if y in t]\n",
    "    else:\n",
    "        y1 = [t for t in transactions if all(s in t for s in y)]\n",
    "    \n",
    "    if type(x) == str and type(y) == list:\n",
    "        inp_list = y.copy()\n",
    "        y.append(x)\n",
    "        union = [t for t in transactions if all(s in t for s in y)]\n",
    "        conf_x_y = round(len(union)/len(x1)*100,2)\n",
    "        conf_y_x = round(len(union)/len(y1)*100,2)\n",
    "        if conf_x_y >= min_conf:\n",
    "            print(f\"Confidence of {x} on {inp_list} is {conf_x_y}\")\n",
    "        if conf_y_x >= min_conf:\n",
    "            print(f\"Confidence of {inp_list} on {x} is {conf_y_x}\")\n",
    "    elif type(x) == list and type(y) == str:\n",
    "        inp_list = x.copy()\n",
    "        x.append(y)\n",
    "        union = [t for t in transactions if all(s in t for s in x)]\n",
    "        conf_x_y = round(len(union)/len(x1)*100,2)\n",
    "        conf_y_x = round(len(union)/len(y1)*100,2)\n",
    "        if conf_x_y >= min_conf:\n",
    "            print(f\"Confidence of {x} on {inp_list} is {conf_x_y}\")\n",
    "        if conf_y_x >= min_conf:\n",
    "            print(f\"Confidence of {inp_list} on {x} is {conf_y_x}\")\n",
    "    elif type(x) == list and type(y) == list:\n",
    "        uni_list = x+y\n",
    "        union = [t for t in transactions if all(s in t for s in uni_list)]\n",
    "        conf_x_y = round(len(union)/len(x1)*100,2)\n",
    "        conf_y_x = round(len(union)/len(y1)*100,2)\n",
    "        if conf_x_y >= min_conf:\n",
    "            print(f\"Confidence of {x} on {y} is {conf_x_y}\")\n",
    "        if conf_y_x >= min_conf:\n",
    "            print(f\"Confidence of {y} on {x} is {conf_y_x}\")"
   ]
  },
  {
   "cell_type": "code",
   "execution_count": 87,
   "id": "70e671e8",
   "metadata": {},
   "outputs": [
    {
     "name": "stdout",
     "output_type": "stream",
     "text": [
      "Confidence of Coffee on ['Pastry', 'Bread'] is 3.18\n",
      "Confidence of ['Pastry', 'Bread'] on Coffee is 38.41\n"
     ]
    }
   ],
   "source": [
    "confidence_on_sets(\"Coffee\", [\"Pastry\", \"Bread\"])"
   ]
  },
  {
   "cell_type": "markdown",
   "id": "c3823bd3",
   "metadata": {},
   "source": [
    "The precentage of customers who bought coffee are also bought pastry and bread is 3.18%\n",
    "The precentage of customers who bought pastry and bread are also bought coffee is 38.41%"
   ]
  },
  {
   "cell_type": "code",
   "execution_count": 88,
   "id": "49e71601",
   "metadata": {},
   "outputs": [
    {
     "name": "stdout",
     "output_type": "stream",
     "text": [
      "Confidence of ['Pastry', 'Bread'] on Coffee is 38.41\n"
     ]
    }
   ],
   "source": [
    "confidence_on_sets(\"Coffee\", [\"Pastry\", \"Bread\"], 25)"
   ]
  },
  {
   "cell_type": "markdown",
   "id": "79d20656",
   "metadata": {},
   "source": [
    "Some results are filtered with minimum confidence threshold\n",
    "\n",
    "\n",
    "\n",
    "Looking for the two sets this time"
   ]
  },
  {
   "cell_type": "code",
   "execution_count": 89,
   "id": "3f11d236",
   "metadata": {},
   "outputs": [
    {
     "name": "stdout",
     "output_type": "stream",
     "text": [
      "Confidence of ['Pastry', 'Bread'] on ['Coffee', 'Cake'] is 2.17\n",
      "Confidence of ['Coffee', 'Cake'] on ['Pastry', 'Bread'] is 1.16\n"
     ]
    }
   ],
   "source": [
    "confidence_on_sets([\"Pastry\", \"Bread\"], [\"Coffee\", \"Cake\"])"
   ]
  },
  {
   "cell_type": "markdown",
   "id": "72286b80",
   "metadata": {},
   "source": [
    "The precentage of customers who bought pastry and bread are also bought coffee and cake is 2.17%\n",
    "\n",
    "\n",
    "The precentage of customers who bought coffee and cake are also bought pastry and bread is 1.16%"
   ]
  },
  {
   "cell_type": "code",
   "execution_count": 90,
   "id": "11b8cc1b",
   "metadata": {},
   "outputs": [
    {
     "name": "stdout",
     "output_type": "stream",
     "text": [
      "Confidence of ['Pastry', 'Bread'] on ['Coffee', 'Cake'] is 2.17\n"
     ]
    }
   ],
   "source": [
    "confidence_on_sets([\"Pastry\", \"Bread\"], [\"Coffee\", \"Cake\"], 2)"
   ]
  },
  {
   "cell_type": "markdown",
   "id": "f54a359e",
   "metadata": {},
   "source": [
    "Some results are filtered with minimum confidence threshold\n",
    "\n",
    "\n",
    "To calculate these scores automatically, item_combinations function is defined"
   ]
  },
  {
   "cell_type": "code",
   "execution_count": 91,
   "id": "f5918ceb",
   "metadata": {},
   "outputs": [],
   "source": [
    "def item_combinations(items):\n",
    "    lst = []\n",
    "    if len(items) == 3:\n",
    "        for i in range(len(items)):\n",
    "            lst.append([items[i], [items[i-1], items[i-2]]])\n",
    "    elif len(items) == 4:\n",
    "        for i in range(len(items)):\n",
    "            lst.append([items[i], [items[i-1], items[i-2], items[i-3]]])\n",
    "    return lst"
   ]
  },
  {
   "cell_type": "markdown",
   "id": "d0a5731d",
   "metadata": {},
   "source": [
    "This function takes an argument as itemsets with 1 item and 2 items or 2 itemsets length of 2\n",
    "It combines these items by leave one of them out and the others are merged\n",
    "\n",
    "\n",
    "For example, let's look at one of the itemsets with length of 3"
   ]
  },
  {
   "cell_type": "markdown",
   "id": "1dffa7ad",
   "metadata": {},
   "source": [
    "list(freq_len_3[\"itemsets\"][0])"
   ]
  },
  {
   "cell_type": "markdown",
   "id": "b9275650",
   "metadata": {},
   "source": [
    "Execution of item_combinations function and result"
   ]
  },
  {
   "cell_type": "code",
   "execution_count": 92,
   "id": "23d91133",
   "metadata": {},
   "outputs": [
    {
     "data": {
      "text/plain": [
       "[['Coffee', ['Pastry', 'Bread']],\n",
       " ['Bread', ['Coffee', 'Pastry']],\n",
       " ['Pastry', ['Bread', 'Coffee']]]"
      ]
     },
     "execution_count": 92,
     "metadata": {},
     "output_type": "execute_result"
    }
   ],
   "source": [
    "combs = item_combinations(list(freq_len_3[\"itemsets\"][0]))\n",
    "combs"
   ]
  },
  {
   "cell_type": "markdown",
   "id": "50d93046",
   "metadata": {},
   "source": [
    "To examine the confidence scores for each item in the itemset to the remaining ones, this output is given by this function\n",
    "Testing for each itemsets with length of 3"
   ]
  },
  {
   "cell_type": "code",
   "execution_count": 93,
   "id": "bcef4560",
   "metadata": {},
   "outputs": [
    {
     "name": "stdout",
     "output_type": "stream",
     "text": [
      "Confidence of ['Pastry', 'Bread'] on Coffee is 38.41\n",
      "Confidence of ['Cake', 'Bread'] on Coffee is 42.99\n",
      "Confidence of ['Cake', 'Tea'] on Coffee is 42.22\n",
      "Confidence of ['Bread', 'Tea'] on Coffee is 26.32\n",
      "Confidence of ['Sandwich', 'Bread'] on Coffee is 42.24\n"
     ]
    }
   ],
   "source": [
    "for i in range(len(freq_len_3.head()[\"itemsets\"])):\n",
    "    combs = item_combinations(list(freq_len_3.head()[\"itemsets\"][i]))\n",
    "    for j in range(len(combs)):\n",
    "        confidence_on_sets(combs[j][0], combs[j][1], 25)"
   ]
  },
  {
   "cell_type": "markdown",
   "id": "054d7ef3",
   "metadata": {},
   "source": [
    "This nested for loops calculates the confidence scores for each combinations of each itemsets with length of 3\n",
    "Threshold is 25 so it prints the confidence scores higher than 25\n",
    "\n",
    "\n",
    "\n",
    "Testing for each itemsets with length of 4"
   ]
  },
  {
   "cell_type": "code",
   "execution_count": 94,
   "id": "ed5d6719",
   "metadata": {},
   "outputs": [
    {
     "name": "stdout",
     "output_type": "stream",
     "text": [
      "Confidence of ['Cake', 'Bread', 'Tea'] on Coffee is 28.26\n",
      "Confidence of ['Pastry', 'Bread', 'Medialuna'] on Coffee is 47.83\n",
      "Confidence of ['Cake', 'Sandwich', 'Tea'] on Coffee is 71.43\n",
      "Confidence of ['Hot chocolate', 'Pastry', 'Bread'] on Coffee is 66.67\n",
      "Confidence of ['Coffee', 'Hot chocolate', 'Pastry'] on Bread is 27.78\n",
      "Confidence of ['Cake', 'Hot chocolate', 'Bread'] on Coffee is 52.94\n"
     ]
    }
   ],
   "source": [
    "for i in range(len(freq_len_4.head()[\"itemsets\"])):\n",
    "    combs = item_combinations(list(freq_len_4.head()[\"itemsets\"][i]))\n",
    "    for j in range(len(combs)):\n",
    "        confidence_on_sets(combs[j][0], combs[j][1], 25)"
   ]
  },
  {
   "cell_type": "markdown",
   "id": "6972a2b6",
   "metadata": {},
   "source": [
    "This nested for loops calculates the confidence scores for each combinations of each itemsets with length of 4\n",
    "Threshold is 25 so it prints the confidence scores higher than 25"
   ]
  },
  {
   "cell_type": "code",
   "execution_count": null,
   "id": "633a71b2",
   "metadata": {},
   "outputs": [],
   "source": []
  },
  {
   "cell_type": "code",
   "execution_count": null,
   "id": "f034b53a",
   "metadata": {},
   "outputs": [],
   "source": []
  }
 ],
 "metadata": {
  "kernelspec": {
   "display_name": "Python 3 (ipykernel)",
   "language": "python",
   "name": "python3"
  },
  "language_info": {
   "codemirror_mode": {
    "name": "ipython",
    "version": 3
   },
   "file_extension": ".py",
   "mimetype": "text/x-python",
   "name": "python",
   "nbconvert_exporter": "python",
   "pygments_lexer": "ipython3",
   "version": "3.11.4"
  }
 },
 "nbformat": 4,
 "nbformat_minor": 5
}
